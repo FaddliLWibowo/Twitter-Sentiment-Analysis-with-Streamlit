{
  "nbformat": 4,
  "nbformat_minor": 0,
  "metadata": {
    "colab": {
      "provenance": [],
      "authorship_tag": "ABX9TyPA/IN26ZXh76qI38qwPx1f",
      "include_colab_link": true
    },
    "kernelspec": {
      "name": "python3",
      "display_name": "Python 3"
    },
    "language_info": {
      "name": "python"
    }
  },
  "cells": [
    {
      "cell_type": "markdown",
      "metadata": {
        "id": "view-in-github",
        "colab_type": "text"
      },
      "source": [
        "<a href=\"https://colab.research.google.com/github/FaddliLWibowo/-Twitter-Sentiment-Analysis-with-Streamlit/blob/main/Data_Collection_From_Twitter_For_Sentiment_Analysis_With_Emoji.ipynb\" target=\"_parent\"><img src=\"https://colab.research.google.com/assets/colab-badge.svg\" alt=\"Open In Colab\"/></a>"
      ]
    },
    {
      "cell_type": "code",
      "execution_count": 1,
      "metadata": {
        "colab": {
          "base_uri": "https://localhost:8080/"
        },
        "id": "kDzjN53v53pF",
        "outputId": "4876608a-2174-4032-cc5e-3e4ea5201a41"
      },
      "outputs": [
        {
          "output_type": "stream",
          "name": "stdout",
          "text": [
            "Looking in indexes: https://pypi.org/simple, https://us-python.pkg.dev/colab-wheels/public/simple/\n",
            "Collecting snscrape\n",
            "  Downloading snscrape-0.5.0.20230113-py3-none-any.whl (69 kB)\n",
            "\u001b[2K     \u001b[90m━━━━━━━━━━━━━━━━━━━━━━━━━━━━━━━━━━━━━━━\u001b[0m \u001b[32m69.2/69.2 KB\u001b[0m \u001b[31m456.2 kB/s\u001b[0m eta \u001b[36m0:00:00\u001b[0m\n",
            "\u001b[?25hRequirement already satisfied: requests[socks] in /usr/local/lib/python3.8/dist-packages (from snscrape) (2.25.1)\n",
            "Requirement already satisfied: beautifulsoup4 in /usr/local/lib/python3.8/dist-packages (from snscrape) (4.6.3)\n",
            "Requirement already satisfied: pytz in /usr/local/lib/python3.8/dist-packages (from snscrape) (2022.7.1)\n",
            "Requirement already satisfied: filelock in /usr/local/lib/python3.8/dist-packages (from snscrape) (3.9.0)\n",
            "Requirement already satisfied: lxml in /usr/local/lib/python3.8/dist-packages (from snscrape) (4.9.2)\n",
            "Requirement already satisfied: chardet<5,>=3.0.2 in /usr/local/lib/python3.8/dist-packages (from requests[socks]->snscrape) (4.0.0)\n",
            "Requirement already satisfied: urllib3<1.27,>=1.21.1 in /usr/local/lib/python3.8/dist-packages (from requests[socks]->snscrape) (1.24.3)\n",
            "Requirement already satisfied: certifi>=2017.4.17 in /usr/local/lib/python3.8/dist-packages (from requests[socks]->snscrape) (2022.12.7)\n",
            "Requirement already satisfied: idna<3,>=2.5 in /usr/local/lib/python3.8/dist-packages (from requests[socks]->snscrape) (2.10)\n",
            "Requirement already satisfied: PySocks!=1.5.7,>=1.5.6 in /usr/local/lib/python3.8/dist-packages (from requests[socks]->snscrape) (1.7.1)\n",
            "Installing collected packages: snscrape\n",
            "Successfully installed snscrape-0.5.0.20230113\n"
          ]
        }
      ],
      "source": [
        "!pip install snscrape==0.5.0"
      ]
    },
    {
      "cell_type": "code",
      "source": [
        "import snscrape.modules.twitter as sntwitter\n",
        "import datetime as dt\n",
        "import pandas as pd"
      ],
      "metadata": {
        "id": "qyf01dGg6G1m"
      },
      "execution_count": 2,
      "outputs": []
    },
    {
      "cell_type": "code",
      "source": [
        "def scrape_tweet(search_term, start_date, end_date, num_tweets):\n",
        "    start_date = start_date.strftime(\"%Y-%m-%d\")\n",
        "    end_date = end_date.strftime(\"%Y-%m-%d\")\n",
        "    tweet_data = []\n",
        "    for i, tweet in enumerate(\n",
        "        sntwitter.TwitterSearchScraper(\n",
        "            \"{} since:{} until:{} lang:id exclude:retweets\".format(\n",
        "                search_term, start_date, end_date\n",
        "            )\n",
        "        ).get_items()\n",
        "    ):\n",
        "        if i >= num_tweets:\n",
        "            break\n",
        "        tweet_data.append([tweet.date, tweet.user.username, tweet.content])\n",
        "    tweet_df = pd.DataFrame(tweet_data, columns=[\"tweetcreatedts\", \"username\", \"text\"])\n",
        "    return tweet_df"
      ],
      "metadata": {
        "id": "pG3MqeyH6M2X"
      },
      "execution_count": 49,
      "outputs": []
    },
    {
      "cell_type": "code",
      "source": [
        "def daily_scraping(search_term, num_daily):\n",
        "    start_date = dt.datetime(2023, 2, 1)\n",
        "    end_date = dt.datetime(2023, 2, 28)\n",
        "    delta = dt.timedelta(days=1)\n",
        "    df = pd.DataFrame()\n",
        "    for n in range(7):\n",
        "        temp_df = scrape_tweet(search_term, start_date, end_date, num_daily)\n",
        "        df = pd.concat([df, temp_df])\n",
        "        start_date += delta\n",
        "        end_date += delta\n",
        "    return df"
      ],
      "metadata": {
        "id": "9BMExMSB6QdC"
      },
      "execution_count": 25,
      "outputs": []
    },
    {
      "cell_type": "code",
      "source": [
        "ori_neg_df = daily_scraping(\":(\", 500)"
      ],
      "metadata": {
        "colab": {
          "base_uri": "https://localhost:8080/"
        },
        "id": "kKtmG5cb6lzq",
        "outputId": "6a7bbb61-9336-4d03-883b-92e8c461492f"
      },
      "execution_count": 26,
      "outputs": [
        {
          "output_type": "stream",
          "name": "stderr",
          "text": [
            "<ipython-input-24-d6b75cfba204>:14: FutureWarning: content is deprecated, use rawContent instead\n",
            "  tweet_data.append([tweet.date, tweet.user.username, tweet.content, tweet.source])\n"
          ]
        }
      ]
    },
    {
      "cell_type": "code",
      "source": [
        "ori_pos_df = daily_scraping(\":)\", 500)"
      ],
      "metadata": {
        "colab": {
          "base_uri": "https://localhost:8080/"
        },
        "id": "pY8ivyac6p2I",
        "outputId": "70b8851f-f693-4be4-909b-5c0f0a2c2d8f"
      },
      "execution_count": 27,
      "outputs": [
        {
          "output_type": "stream",
          "name": "stderr",
          "text": [
            "<ipython-input-24-d6b75cfba204>:14: FutureWarning: content is deprecated, use rawContent instead\n",
            "  tweet_data.append([tweet.date, tweet.user.username, tweet.content, tweet.source])\n"
          ]
        }
      ]
    },
    {
      "cell_type": "code",
      "source": [
        "def filter_include(df, term_list):\n",
        "    temp_df = pd.DataFrame()\n",
        "    for term in term_list:\n",
        "        add_df = df[df[\"text\"].str.contains(term, regex=False) == True]\n",
        "        temp_df = pd.concat([temp_df, add_df]).drop_duplicates(ignore_index=True)\n",
        "    return temp_df"
      ],
      "metadata": {
        "id": "o4juV1UO7lGT"
      },
      "execution_count": 34,
      "outputs": []
    },
    {
      "cell_type": "code",
      "source": [
        "def filter_exclude(df, term_list):\n",
        "    temp_df = df.copy()\n",
        "    for term in term_list:\n",
        "        temp_df = temp_df[temp_df[\"text\"].str.contains(term, regex=False) == False]\n",
        "    return temp_df"
      ],
      "metadata": {
        "id": "6FxKFA967pKw"
      },
      "execution_count": 35,
      "outputs": []
    },
    {
      "cell_type": "code",
      "source": [
        "neg_df = filter_include(ori_neg_df, [\":(\", \":-(\"])\n",
        "neg_df = filter_exclude(neg_df, [\":)\", \":D\", \":-)\"])\n",
        "neg_df.shape"
      ],
      "metadata": {
        "colab": {
          "base_uri": "https://localhost:8080/"
        },
        "id": "tO8pJdC97q_h",
        "outputId": "150164f8-30f0-4eb3-ebd8-15694c69619b"
      },
      "execution_count": 36,
      "outputs": [
        {
          "output_type": "execute_result",
          "data": {
            "text/plain": [
              "(499, 4)"
            ]
          },
          "metadata": {},
          "execution_count": 36
        }
      ]
    },
    {
      "cell_type": "code",
      "source": [
        "pos_df = filter_include(ori_pos_df, [\":)\", \":D\", \":-)\"])\n",
        "pos_df = filter_exclude(pos_df, [\":(\", \":-(\"])\n",
        "pos_df.shape"
      ],
      "metadata": {
        "colab": {
          "base_uri": "https://localhost:8080/"
        },
        "id": "Un71sYds7uTf",
        "outputId": "229747eb-862a-46ef-f53c-ba28756a7cee"
      },
      "execution_count": 37,
      "outputs": [
        {
          "output_type": "execute_result",
          "data": {
            "text/plain": [
              "(487, 4)"
            ]
          },
          "metadata": {},
          "execution_count": 37
        }
      ]
    },
    {
      "cell_type": "code",
      "source": [
        "def remove_term(df, term_list):\n",
        "    temp_df = df.copy()\n",
        "    for term in term_list:\n",
        "        temp_df[\"text\"] = temp_df[\"text\"].str.replace(term, \" \", regex=False)\n",
        "    return temp_df"
      ],
      "metadata": {
        "id": "jNGg6bfR7yH6"
      },
      "execution_count": 40,
      "outputs": []
    },
    {
      "cell_type": "code",
      "source": [
        "neg_df = remove_term(neg_df, [\":(\", \":-(\"])"
      ],
      "metadata": {
        "id": "SXGAhBKk9fxs"
      },
      "execution_count": 41,
      "outputs": []
    },
    {
      "cell_type": "code",
      "source": [
        "pos_df = remove_term(pos_df, [\":)\", \":D\", \":-)\"])"
      ],
      "metadata": {
        "id": "OGUwIuS99hW8"
      },
      "execution_count": 42,
      "outputs": []
    },
    {
      "cell_type": "code",
      "source": [
        "neg_df[\"klasifikasi\"] = \"Negatif\"\n",
        "pos_df[\"klasifikasi\"] = \"Positif\"\n",
        "df = pd.concat([neg_df, pos_df]).reset_index(drop=True)"
      ],
      "metadata": {
        "id": "ZPiXVGGz9jWn"
      },
      "execution_count": 43,
      "outputs": []
    },
    {
      "cell_type": "code",
      "source": [
        "#Mengganti format tanggal\n",
        "tanggal = pd.to_datetime(df['tweetcreatedts'])\n",
        "df['tweetcreatedts'] = tanggal.dt.strftime('%d/%m/%Y %H:%M')\n",
        "df['tweetcreatedts']"
      ],
      "metadata": {
        "colab": {
          "base_uri": "https://localhost:8080/"
        },
        "id": "INWQuDDM-j2_",
        "outputId": "d44178f2-3933-41b4-84a0-b3d701eeaf1e"
      },
      "execution_count": 46,
      "outputs": [
        {
          "output_type": "execute_result",
          "data": {
            "text/plain": [
              "0      27/02/2023 22:29\n",
              "1      27/02/2023 22:29\n",
              "2      27/02/2023 22:29\n",
              "3      27/02/2023 22:28\n",
              "4      27/02/2023 22:28\n",
              "             ...       \n",
              "981    27/02/2023 21:57\n",
              "982    27/02/2023 21:38\n",
              "983    27/02/2023 21:35\n",
              "984    27/02/2023 21:33\n",
              "985    27/02/2023 21:30\n",
              "Name: tweetcreatedts, Length: 986, dtype: object"
            ]
          },
          "metadata": {},
          "execution_count": 46
        }
      ]
    },
    {
      "cell_type": "code",
      "source": [
        "df"
      ],
      "metadata": {
        "colab": {
          "base_uri": "https://localhost:8080/",
          "height": 423
        },
        "id": "C3USlKTyBYbR",
        "outputId": "08672d68-a039-4763-f044-fe7d5f4b4fde"
      },
      "execution_count": 47,
      "outputs": [
        {
          "output_type": "execute_result",
          "data": {
            "text/plain": [
              "       tweetcreatedts         username  \\\n",
              "0    27/02/2023 22:29     gemini4thism   \n",
              "1    27/02/2023 22:29        nico_inoo   \n",
              "2    27/02/2023 22:29      txtfromholy   \n",
              "3    27/02/2023 22:28      notanicecup   \n",
              "4    27/02/2023 22:28          kzm_rnk   \n",
              "..                ...              ...   \n",
              "981  27/02/2023 21:57       test5f1798   \n",
              "982  27/02/2023 21:38  ViaKyuTemErtDae   \n",
              "983  27/02/2023 21:35     DORKyungsoo4   \n",
              "984  27/02/2023 21:33  Rizqiazulvaafia   \n",
              "985  27/02/2023 21:30   paulrobertborg   \n",
              "\n",
              "                                                  text  \\\n",
              "0                          Mau nangis, kangen Fourth     \n",
              "1    dingin bgt ky gini jadi tiba² keinget pas kmu ...   \n",
              "2                                   @AgneesLS Banget     \n",
              "3      Kenapa bangun tidur bisa kerasa bgt kangennya     \n",
              "4    @rrwynna Iyaaa, kecuali kalo kayak event yang ...   \n",
              "..                                                 ...   \n",
              "981       foo   : 180501cc-9760-4654-b18b-92566cf03d9a   \n",
              "982  I'am Vhia ELF from INA always support SUPER JU...   \n",
              "983                     @zioshaiendaryll Jadi begitu     \n",
              "984  Heyy semangat yaa coboyjr iqbaale teukuryzki99...   \n",
              "985                        @patrickjansen71 Alaaf....    \n",
              "\n",
              "                                                source klasifikasi  \n",
              "0    <a href=\"http://twitter.com/download/iphone\" r...     Negatif  \n",
              "1    <a href=\"http://twitter.com/download/android\" ...     Negatif  \n",
              "2    <a href=\"http://twitter.com/download/iphone\" r...     Negatif  \n",
              "3    <a href=\"http://twitter.com/download/android\" ...     Negatif  \n",
              "4    <a href=\"http://twitter.com/download/android\" ...     Negatif  \n",
              "..                                                 ...         ...  \n",
              "981  <a href=\"http://twitter.com\" rel=\"nofollow\">Te...     Positif  \n",
              "982  <a href=\"http://twittbot.net/\" rel=\"nofollow\">...     Positif  \n",
              "983  <a href=\"http://twitter.com/download/iphone\" r...     Positif  \n",
              "984  <a href=\"http://twittbot.net/\" rel=\"nofollow\">...     Positif  \n",
              "985  <a href=\"http://twitter.com/download/android\" ...     Positif  \n",
              "\n",
              "[986 rows x 5 columns]"
            ],
            "text/html": [
              "\n",
              "  <div id=\"df-94192acf-165d-40eb-8b6f-aecb92d13595\">\n",
              "    <div class=\"colab-df-container\">\n",
              "      <div>\n",
              "<style scoped>\n",
              "    .dataframe tbody tr th:only-of-type {\n",
              "        vertical-align: middle;\n",
              "    }\n",
              "\n",
              "    .dataframe tbody tr th {\n",
              "        vertical-align: top;\n",
              "    }\n",
              "\n",
              "    .dataframe thead th {\n",
              "        text-align: right;\n",
              "    }\n",
              "</style>\n",
              "<table border=\"1\" class=\"dataframe\">\n",
              "  <thead>\n",
              "    <tr style=\"text-align: right;\">\n",
              "      <th></th>\n",
              "      <th>tweetcreatedts</th>\n",
              "      <th>username</th>\n",
              "      <th>text</th>\n",
              "      <th>source</th>\n",
              "      <th>klasifikasi</th>\n",
              "    </tr>\n",
              "  </thead>\n",
              "  <tbody>\n",
              "    <tr>\n",
              "      <th>0</th>\n",
              "      <td>27/02/2023 22:29</td>\n",
              "      <td>gemini4thism</td>\n",
              "      <td>Mau nangis, kangen Fourth</td>\n",
              "      <td>&lt;a href=\"http://twitter.com/download/iphone\" r...</td>\n",
              "      <td>Negatif</td>\n",
              "    </tr>\n",
              "    <tr>\n",
              "      <th>1</th>\n",
              "      <td>27/02/2023 22:29</td>\n",
              "      <td>nico_inoo</td>\n",
              "      <td>dingin bgt ky gini jadi tiba² keinget pas kmu ...</td>\n",
              "      <td>&lt;a href=\"http://twitter.com/download/android\" ...</td>\n",
              "      <td>Negatif</td>\n",
              "    </tr>\n",
              "    <tr>\n",
              "      <th>2</th>\n",
              "      <td>27/02/2023 22:29</td>\n",
              "      <td>txtfromholy</td>\n",
              "      <td>@AgneesLS Banget</td>\n",
              "      <td>&lt;a href=\"http://twitter.com/download/iphone\" r...</td>\n",
              "      <td>Negatif</td>\n",
              "    </tr>\n",
              "    <tr>\n",
              "      <th>3</th>\n",
              "      <td>27/02/2023 22:28</td>\n",
              "      <td>notanicecup</td>\n",
              "      <td>Kenapa bangun tidur bisa kerasa bgt kangennya</td>\n",
              "      <td>&lt;a href=\"http://twitter.com/download/android\" ...</td>\n",
              "      <td>Negatif</td>\n",
              "    </tr>\n",
              "    <tr>\n",
              "      <th>4</th>\n",
              "      <td>27/02/2023 22:28</td>\n",
              "      <td>kzm_rnk</td>\n",
              "      <td>@rrwynna Iyaaa, kecuali kalo kayak event yang ...</td>\n",
              "      <td>&lt;a href=\"http://twitter.com/download/android\" ...</td>\n",
              "      <td>Negatif</td>\n",
              "    </tr>\n",
              "    <tr>\n",
              "      <th>...</th>\n",
              "      <td>...</td>\n",
              "      <td>...</td>\n",
              "      <td>...</td>\n",
              "      <td>...</td>\n",
              "      <td>...</td>\n",
              "    </tr>\n",
              "    <tr>\n",
              "      <th>981</th>\n",
              "      <td>27/02/2023 21:57</td>\n",
              "      <td>test5f1798</td>\n",
              "      <td>foo   : 180501cc-9760-4654-b18b-92566cf03d9a</td>\n",
              "      <td>&lt;a href=\"http://twitter.com\" rel=\"nofollow\"&gt;Te...</td>\n",
              "      <td>Positif</td>\n",
              "    </tr>\n",
              "    <tr>\n",
              "      <th>982</th>\n",
              "      <td>27/02/2023 21:38</td>\n",
              "      <td>ViaKyuTemErtDae</td>\n",
              "      <td>I'am Vhia ELF from INA always support SUPER JU...</td>\n",
              "      <td>&lt;a href=\"http://twittbot.net/\" rel=\"nofollow\"&gt;...</td>\n",
              "      <td>Positif</td>\n",
              "    </tr>\n",
              "    <tr>\n",
              "      <th>983</th>\n",
              "      <td>27/02/2023 21:35</td>\n",
              "      <td>DORKyungsoo4</td>\n",
              "      <td>@zioshaiendaryll Jadi begitu</td>\n",
              "      <td>&lt;a href=\"http://twitter.com/download/iphone\" r...</td>\n",
              "      <td>Positif</td>\n",
              "    </tr>\n",
              "    <tr>\n",
              "      <th>984</th>\n",
              "      <td>27/02/2023 21:33</td>\n",
              "      <td>Rizqiazulvaafia</td>\n",
              "      <td>Heyy semangat yaa coboyjr iqbaale teukuryzki99...</td>\n",
              "      <td>&lt;a href=\"http://twittbot.net/\" rel=\"nofollow\"&gt;...</td>\n",
              "      <td>Positif</td>\n",
              "    </tr>\n",
              "    <tr>\n",
              "      <th>985</th>\n",
              "      <td>27/02/2023 21:30</td>\n",
              "      <td>paulrobertborg</td>\n",
              "      <td>@patrickjansen71 Alaaf....</td>\n",
              "      <td>&lt;a href=\"http://twitter.com/download/android\" ...</td>\n",
              "      <td>Positif</td>\n",
              "    </tr>\n",
              "  </tbody>\n",
              "</table>\n",
              "<p>986 rows × 5 columns</p>\n",
              "</div>\n",
              "      <button class=\"colab-df-convert\" onclick=\"convertToInteractive('df-94192acf-165d-40eb-8b6f-aecb92d13595')\"\n",
              "              title=\"Convert this dataframe to an interactive table.\"\n",
              "              style=\"display:none;\">\n",
              "        \n",
              "  <svg xmlns=\"http://www.w3.org/2000/svg\" height=\"24px\"viewBox=\"0 0 24 24\"\n",
              "       width=\"24px\">\n",
              "    <path d=\"M0 0h24v24H0V0z\" fill=\"none\"/>\n",
              "    <path d=\"M18.56 5.44l.94 2.06.94-2.06 2.06-.94-2.06-.94-.94-2.06-.94 2.06-2.06.94zm-11 1L8.5 8.5l.94-2.06 2.06-.94-2.06-.94L8.5 2.5l-.94 2.06-2.06.94zm10 10l.94 2.06.94-2.06 2.06-.94-2.06-.94-.94-2.06-.94 2.06-2.06.94z\"/><path d=\"M17.41 7.96l-1.37-1.37c-.4-.4-.92-.59-1.43-.59-.52 0-1.04.2-1.43.59L10.3 9.45l-7.72 7.72c-.78.78-.78 2.05 0 2.83L4 21.41c.39.39.9.59 1.41.59.51 0 1.02-.2 1.41-.59l7.78-7.78 2.81-2.81c.8-.78.8-2.07 0-2.86zM5.41 20L4 18.59l7.72-7.72 1.47 1.35L5.41 20z\"/>\n",
              "  </svg>\n",
              "      </button>\n",
              "      \n",
              "  <style>\n",
              "    .colab-df-container {\n",
              "      display:flex;\n",
              "      flex-wrap:wrap;\n",
              "      gap: 12px;\n",
              "    }\n",
              "\n",
              "    .colab-df-convert {\n",
              "      background-color: #E8F0FE;\n",
              "      border: none;\n",
              "      border-radius: 50%;\n",
              "      cursor: pointer;\n",
              "      display: none;\n",
              "      fill: #1967D2;\n",
              "      height: 32px;\n",
              "      padding: 0 0 0 0;\n",
              "      width: 32px;\n",
              "    }\n",
              "\n",
              "    .colab-df-convert:hover {\n",
              "      background-color: #E2EBFA;\n",
              "      box-shadow: 0px 1px 2px rgba(60, 64, 67, 0.3), 0px 1px 3px 1px rgba(60, 64, 67, 0.15);\n",
              "      fill: #174EA6;\n",
              "    }\n",
              "\n",
              "    [theme=dark] .colab-df-convert {\n",
              "      background-color: #3B4455;\n",
              "      fill: #D2E3FC;\n",
              "    }\n",
              "\n",
              "    [theme=dark] .colab-df-convert:hover {\n",
              "      background-color: #434B5C;\n",
              "      box-shadow: 0px 1px 3px 1px rgba(0, 0, 0, 0.15);\n",
              "      filter: drop-shadow(0px 1px 2px rgba(0, 0, 0, 0.3));\n",
              "      fill: #FFFFFF;\n",
              "    }\n",
              "  </style>\n",
              "\n",
              "      <script>\n",
              "        const buttonEl =\n",
              "          document.querySelector('#df-94192acf-165d-40eb-8b6f-aecb92d13595 button.colab-df-convert');\n",
              "        buttonEl.style.display =\n",
              "          google.colab.kernel.accessAllowed ? 'block' : 'none';\n",
              "\n",
              "        async function convertToInteractive(key) {\n",
              "          const element = document.querySelector('#df-94192acf-165d-40eb-8b6f-aecb92d13595');\n",
              "          const dataTable =\n",
              "            await google.colab.kernel.invokeFunction('convertToInteractive',\n",
              "                                                     [key], {});\n",
              "          if (!dataTable) return;\n",
              "\n",
              "          const docLinkHtml = 'Like what you see? Visit the ' +\n",
              "            '<a target=\"_blank\" href=https://colab.research.google.com/notebooks/data_table.ipynb>data table notebook</a>'\n",
              "            + ' to learn more about interactive tables.';\n",
              "          element.innerHTML = '';\n",
              "          dataTable['output_type'] = 'display_data';\n",
              "          await google.colab.output.renderOutput(dataTable, element);\n",
              "          const docLink = document.createElement('div');\n",
              "          docLink.innerHTML = docLinkHtml;\n",
              "          element.appendChild(docLink);\n",
              "        }\n",
              "      </script>\n",
              "    </div>\n",
              "  </div>\n",
              "  "
            ]
          },
          "metadata": {},
          "execution_count": 47
        }
      ]
    },
    {
      "cell_type": "code",
      "source": [
        "df.to_excel(\"labeled_tweets.xlsx\", index=False)"
      ],
      "metadata": {
        "id": "y85BzYJ59qO2"
      },
      "execution_count": 48,
      "outputs": []
    }
  ]
}