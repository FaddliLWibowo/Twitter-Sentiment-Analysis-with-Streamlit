{
  "nbformat": 4,
  "nbformat_minor": 0,
  "metadata": {
    "colab": {
      "provenance": [],
      "authorship_tag": "ABX9TyMFDfrYa0ILu53eYTSkKiJr",
      "include_colab_link": true
    },
    "kernelspec": {
      "name": "python3",
      "display_name": "Python 3"
    },
    "language_info": {
      "name": "python"
    },
    "gpuClass": "standard"
  },
  "cells": [
    {
      "cell_type": "markdown",
      "metadata": {
        "id": "view-in-github",
        "colab_type": "text"
      },
      "source": [
        "<a href=\"https://colab.research.google.com/github/FaddliLWibowo/Twitter-Sentiment-Analysis-with-Streamlit/blob/main/Twitter_Sentiment_Analysis_Model_With_LSTM.ipynb\" target=\"_parent\"><img src=\"https://colab.research.google.com/assets/colab-badge.svg\" alt=\"Open In Colab\"/></a>"
      ]
    },
    {
      "cell_type": "code",
      "source": [
        "!pip install PySastrawi==1.2.0"
      ],
      "metadata": {
        "colab": {
          "base_uri": "https://localhost:8080/"
        },
        "id": "Kaf97KmTpdSr",
        "outputId": "ecbf4b9e-9280-45cf-ddcd-de26058a7241"
      },
      "execution_count": 2,
      "outputs": [
        {
          "output_type": "stream",
          "name": "stdout",
          "text": [
            "Looking in indexes: https://pypi.org/simple, https://us-python.pkg.dev/colab-wheels/public/simple/\n",
            "Requirement already satisfied: PySastrawi==1.2.0 in /usr/local/lib/python3.8/dist-packages (1.2.0)\n"
          ]
        }
      ]
    },
    {
      "cell_type": "code",
      "execution_count": 3,
      "metadata": {
        "colab": {
          "base_uri": "https://localhost:8080/"
        },
        "id": "CNWMGiT3GzAq",
        "outputId": "48bd3c58-c3cf-4f2c-a09c-a7b945480c85"
      },
      "outputs": [
        {
          "output_type": "stream",
          "name": "stderr",
          "text": [
            "[nltk_data] Downloading package stopwords to /root/nltk_data...\n",
            "[nltk_data]   Package stopwords is already up-to-date!\n"
          ]
        }
      ],
      "source": [
        "# Mengimpor library untuk preprocessing data\n",
        "import pandas as pd\n",
        "import numpy as np\n",
        "import string\n",
        "import nltk\n",
        "import pickle\n",
        "from nltk.tokenize import sent_tokenize, word_tokenize\n",
        "from nltk.corpus import stopwords\n",
        "nltk.download('stopwords')\n",
        "from Sastrawi.Stemmer.StemmerFactory import StemmerFactory\n",
        "import re\n",
        "import seaborn as sns\n",
        "import matplotlib.pyplot as plt\n",
        "from sklearn.feature_extraction.text import CountVectorizer\n",
        "%matplotlib inline\n",
        "\n",
        "from sklearn.model_selection import train_test_split\n",
        "from tensorflow.keras.preprocessing.text import Tokenizer\n",
        "from tensorflow.keras.preprocessing.sequence import pad_sequences\n",
        "\n",
        "# for word embedding and model building\n",
        "import tensorflow as tf\n",
        "from tensorflow.keras.models import Sequential\n",
        "from tensorflow.keras.layers import Dense, Embedding, LSTM, SpatialDropout1D\n",
        "from tensorflow.keras.callbacks import EarlyStopping, ModelCheckpoint\n",
        "from tensorflow.keras.optimizers import Adam\n",
        "\n",
        "# for evaluation on test data\n",
        "from tensorflow.keras.models import load_model\n",
        "from sklearn.metrics import accuracy_score, confusion_matrix"
      ]
    },
    {
      "cell_type": "code",
      "source": [
        "#Membuat fungsi load_data untuk membuka file csv hasil crawling data\n",
        "url= \"https://github.com/FaddliLWibowo/Twitter-Sentiment-Analysis-with-Streamlit/blob/main/Dataset/Data-hasil-klasifikasi-positif-negatif.xlsx?raw=true\""
      ],
      "metadata": {
        "id": "92nrWhVDHnwn"
      },
      "execution_count": 4,
      "outputs": []
    },
    {
      "cell_type": "code",
      "source": [
        "df = pd.read_excel(url)\n",
        "df.sample(10)"
      ],
      "metadata": {
        "colab": {
          "base_uri": "https://localhost:8080/",
          "height": 580
        },
        "id": "Wj6spDHhIL9s",
        "outputId": "c10a7124-79d6-4869-eca8-360643314ce2"
      },
      "execution_count": 5,
      "outputs": [
        {
          "output_type": "execute_result",
          "data": {
            "text/plain": [
              "        tweetcreatedts         username  \\\n",
              "298   25/02/2023 19:41      nurwahidbae   \n",
              "2115  28/02/2023 22:59   PerdanaKtr1995   \n",
              "337   25/02/2023 11:29           tyo_tj   \n",
              "1849  27/02/2023 06:55  txtdarisukabumi   \n",
              "757   21/02/2023 04:36     terkinidotid   \n",
              "1727  24/02/2023 09:50   mediaindonesia   \n",
              "1260  27/02/2023 19:21      bengkeldodo   \n",
              "2230  28/02/2023 22:23  Tinkerb50724696   \n",
              "276   26/02/2023 02:00     Lintas_MNCTV   \n",
              "1342  26/02/2023 07:58  kab_gerindratgl   \n",
              "\n",
              "                                                   text                source  \\\n",
              "298   kalau lihat vidio perlakuannya benar benar bia...   Twitter for Android   \n",
              "2115  polri bandar sabu terbesar di sumut yang dilin...   Twitter for Android   \n",
              "337   dulu pernah kepikiran klo jalan di daerah peru...   Twitter for Android   \n",
              "1849  gacoan betul sekali orang sukabumi lebih memil...    Twitter for iPhone   \n",
              "757   ini alasan jpu ajukan banding untuk ferdy samb...               dlvr.it   \n",
              "1727  pj gubernur dki heru budi hartono mengungkapka...                 micom   \n",
              "1260  tweet santai tapi yang komen sepertinya banyak...   Twitter for Android   \n",
              "2230  polri susah ya ngeliat konpers polisi sekarang...   Twitter for Android   \n",
              "276   polisi menetapkan satu tersangka baru kasus pe...  Twitter Media Studio   \n",
              "1342  aksi pak prabowo subianto mendingprabowo prabo...   Twitter for Android   \n",
              "\n",
              "                                            tweet_clean  \\\n",
              "298   kalau lihat vidio perlakuannya benar benar bia...   \n",
              "2115  polri bandar sabu terbesar di sumut yang dilin...   \n",
              "337   dulu pernah kepikiran klo jalan di daerah peru...   \n",
              "1849  gacoan betul sekali orang sukabumi lebih memil...   \n",
              "757   ini alasan jpu ajukan banding untuk ferdy samb...   \n",
              "1727  pj gubernur dki heru budi hartono mengungkapka...   \n",
              "1260  tweet santai tapi yang komen sepertinya banyak...   \n",
              "2230  polri susah ya ngeliat konpers polisi sekarang...   \n",
              "276   polisi menetapkan satu tersangka baru kasus pe...   \n",
              "1342  aksi pak prabowo subianto mendingprabowo prabo...   \n",
              "\n",
              "                                          tweet_english klasifikasi  \n",
              "298   if you see the video of the treatment, dandy a...     Negatif  \n",
              "2115  the largest book of the bandar sabu bandar in ...     Positif  \n",
              "337   i used to think that if the road in this luxur...     Negatif  \n",
              "1849  gacoan really sukabumi people prefer to queue ...     Positif  \n",
              "757   this is the reason for the prosecutor to submi...     Positif  \n",
              "1727  acting dki governor heru budi hartono revealed...     Positif  \n",
              "1260  tweet relaxed, but the comments that seem to b...     Positif  \n",
              "2230  the national police is hard to see the police ...     Negatif  \n",
              "276   the police named one new suspect in the persec...     Positif  \n",
              "1342  action pak prabowo subianto mendingprrabowo pr...     Positif  "
            ],
            "text/html": [
              "\n",
              "  <div id=\"df-6bda3c08-d766-4b58-bcf0-b80b7d44f6a9\">\n",
              "    <div class=\"colab-df-container\">\n",
              "      <div>\n",
              "<style scoped>\n",
              "    .dataframe tbody tr th:only-of-type {\n",
              "        vertical-align: middle;\n",
              "    }\n",
              "\n",
              "    .dataframe tbody tr th {\n",
              "        vertical-align: top;\n",
              "    }\n",
              "\n",
              "    .dataframe thead th {\n",
              "        text-align: right;\n",
              "    }\n",
              "</style>\n",
              "<table border=\"1\" class=\"dataframe\">\n",
              "  <thead>\n",
              "    <tr style=\"text-align: right;\">\n",
              "      <th></th>\n",
              "      <th>tweetcreatedts</th>\n",
              "      <th>username</th>\n",
              "      <th>text</th>\n",
              "      <th>source</th>\n",
              "      <th>tweet_clean</th>\n",
              "      <th>tweet_english</th>\n",
              "      <th>klasifikasi</th>\n",
              "    </tr>\n",
              "  </thead>\n",
              "  <tbody>\n",
              "    <tr>\n",
              "      <th>298</th>\n",
              "      <td>25/02/2023 19:41</td>\n",
              "      <td>nurwahidbae</td>\n",
              "      <td>kalau lihat vidio perlakuannya benar benar bia...</td>\n",
              "      <td>Twitter for Android</td>\n",
              "      <td>kalau lihat vidio perlakuannya benar benar bia...</td>\n",
              "      <td>if you see the video of the treatment, dandy a...</td>\n",
              "      <td>Negatif</td>\n",
              "    </tr>\n",
              "    <tr>\n",
              "      <th>2115</th>\n",
              "      <td>28/02/2023 22:59</td>\n",
              "      <td>PerdanaKtr1995</td>\n",
              "      <td>polri bandar sabu terbesar di sumut yang dilin...</td>\n",
              "      <td>Twitter for Android</td>\n",
              "      <td>polri bandar sabu terbesar di sumut yang dilin...</td>\n",
              "      <td>the largest book of the bandar sabu bandar in ...</td>\n",
              "      <td>Positif</td>\n",
              "    </tr>\n",
              "    <tr>\n",
              "      <th>337</th>\n",
              "      <td>25/02/2023 11:29</td>\n",
              "      <td>tyo_tj</td>\n",
              "      <td>dulu pernah kepikiran klo jalan di daerah peru...</td>\n",
              "      <td>Twitter for Android</td>\n",
              "      <td>dulu pernah kepikiran klo jalan di daerah peru...</td>\n",
              "      <td>i used to think that if the road in this luxur...</td>\n",
              "      <td>Negatif</td>\n",
              "    </tr>\n",
              "    <tr>\n",
              "      <th>1849</th>\n",
              "      <td>27/02/2023 06:55</td>\n",
              "      <td>txtdarisukabumi</td>\n",
              "      <td>gacoan betul sekali orang sukabumi lebih memil...</td>\n",
              "      <td>Twitter for iPhone</td>\n",
              "      <td>gacoan betul sekali orang sukabumi lebih memil...</td>\n",
              "      <td>gacoan really sukabumi people prefer to queue ...</td>\n",
              "      <td>Positif</td>\n",
              "    </tr>\n",
              "    <tr>\n",
              "      <th>757</th>\n",
              "      <td>21/02/2023 04:36</td>\n",
              "      <td>terkinidotid</td>\n",
              "      <td>ini alasan jpu ajukan banding untuk ferdy samb...</td>\n",
              "      <td>dlvr.it</td>\n",
              "      <td>ini alasan jpu ajukan banding untuk ferdy samb...</td>\n",
              "      <td>this is the reason for the prosecutor to submi...</td>\n",
              "      <td>Positif</td>\n",
              "    </tr>\n",
              "    <tr>\n",
              "      <th>1727</th>\n",
              "      <td>24/02/2023 09:50</td>\n",
              "      <td>mediaindonesia</td>\n",
              "      <td>pj gubernur dki heru budi hartono mengungkapka...</td>\n",
              "      <td>micom</td>\n",
              "      <td>pj gubernur dki heru budi hartono mengungkapka...</td>\n",
              "      <td>acting dki governor heru budi hartono revealed...</td>\n",
              "      <td>Positif</td>\n",
              "    </tr>\n",
              "    <tr>\n",
              "      <th>1260</th>\n",
              "      <td>27/02/2023 19:21</td>\n",
              "      <td>bengkeldodo</td>\n",
              "      <td>tweet santai tapi yang komen sepertinya banyak...</td>\n",
              "      <td>Twitter for Android</td>\n",
              "      <td>tweet santai tapi yang komen sepertinya banyak...</td>\n",
              "      <td>tweet relaxed, but the comments that seem to b...</td>\n",
              "      <td>Positif</td>\n",
              "    </tr>\n",
              "    <tr>\n",
              "      <th>2230</th>\n",
              "      <td>28/02/2023 22:23</td>\n",
              "      <td>Tinkerb50724696</td>\n",
              "      <td>polri susah ya ngeliat konpers polisi sekarang...</td>\n",
              "      <td>Twitter for Android</td>\n",
              "      <td>polri susah ya ngeliat konpers polisi sekarang...</td>\n",
              "      <td>the national police is hard to see the police ...</td>\n",
              "      <td>Negatif</td>\n",
              "    </tr>\n",
              "    <tr>\n",
              "      <th>276</th>\n",
              "      <td>26/02/2023 02:00</td>\n",
              "      <td>Lintas_MNCTV</td>\n",
              "      <td>polisi menetapkan satu tersangka baru kasus pe...</td>\n",
              "      <td>Twitter Media Studio</td>\n",
              "      <td>polisi menetapkan satu tersangka baru kasus pe...</td>\n",
              "      <td>the police named one new suspect in the persec...</td>\n",
              "      <td>Positif</td>\n",
              "    </tr>\n",
              "    <tr>\n",
              "      <th>1342</th>\n",
              "      <td>26/02/2023 07:58</td>\n",
              "      <td>kab_gerindratgl</td>\n",
              "      <td>aksi pak prabowo subianto mendingprabowo prabo...</td>\n",
              "      <td>Twitter for Android</td>\n",
              "      <td>aksi pak prabowo subianto mendingprabowo prabo...</td>\n",
              "      <td>action pak prabowo subianto mendingprrabowo pr...</td>\n",
              "      <td>Positif</td>\n",
              "    </tr>\n",
              "  </tbody>\n",
              "</table>\n",
              "</div>\n",
              "      <button class=\"colab-df-convert\" onclick=\"convertToInteractive('df-6bda3c08-d766-4b58-bcf0-b80b7d44f6a9')\"\n",
              "              title=\"Convert this dataframe to an interactive table.\"\n",
              "              style=\"display:none;\">\n",
              "        \n",
              "  <svg xmlns=\"http://www.w3.org/2000/svg\" height=\"24px\"viewBox=\"0 0 24 24\"\n",
              "       width=\"24px\">\n",
              "    <path d=\"M0 0h24v24H0V0z\" fill=\"none\"/>\n",
              "    <path d=\"M18.56 5.44l.94 2.06.94-2.06 2.06-.94-2.06-.94-.94-2.06-.94 2.06-2.06.94zm-11 1L8.5 8.5l.94-2.06 2.06-.94-2.06-.94L8.5 2.5l-.94 2.06-2.06.94zm10 10l.94 2.06.94-2.06 2.06-.94-2.06-.94-.94-2.06-.94 2.06-2.06.94z\"/><path d=\"M17.41 7.96l-1.37-1.37c-.4-.4-.92-.59-1.43-.59-.52 0-1.04.2-1.43.59L10.3 9.45l-7.72 7.72c-.78.78-.78 2.05 0 2.83L4 21.41c.39.39.9.59 1.41.59.51 0 1.02-.2 1.41-.59l7.78-7.78 2.81-2.81c.8-.78.8-2.07 0-2.86zM5.41 20L4 18.59l7.72-7.72 1.47 1.35L5.41 20z\"/>\n",
              "  </svg>\n",
              "      </button>\n",
              "      \n",
              "  <style>\n",
              "    .colab-df-container {\n",
              "      display:flex;\n",
              "      flex-wrap:wrap;\n",
              "      gap: 12px;\n",
              "    }\n",
              "\n",
              "    .colab-df-convert {\n",
              "      background-color: #E8F0FE;\n",
              "      border: none;\n",
              "      border-radius: 50%;\n",
              "      cursor: pointer;\n",
              "      display: none;\n",
              "      fill: #1967D2;\n",
              "      height: 32px;\n",
              "      padding: 0 0 0 0;\n",
              "      width: 32px;\n",
              "    }\n",
              "\n",
              "    .colab-df-convert:hover {\n",
              "      background-color: #E2EBFA;\n",
              "      box-shadow: 0px 1px 2px rgba(60, 64, 67, 0.3), 0px 1px 3px 1px rgba(60, 64, 67, 0.15);\n",
              "      fill: #174EA6;\n",
              "    }\n",
              "\n",
              "    [theme=dark] .colab-df-convert {\n",
              "      background-color: #3B4455;\n",
              "      fill: #D2E3FC;\n",
              "    }\n",
              "\n",
              "    [theme=dark] .colab-df-convert:hover {\n",
              "      background-color: #434B5C;\n",
              "      box-shadow: 0px 1px 3px 1px rgba(0, 0, 0, 0.15);\n",
              "      filter: drop-shadow(0px 1px 2px rgba(0, 0, 0, 0.3));\n",
              "      fill: #FFFFFF;\n",
              "    }\n",
              "  </style>\n",
              "\n",
              "      <script>\n",
              "        const buttonEl =\n",
              "          document.querySelector('#df-6bda3c08-d766-4b58-bcf0-b80b7d44f6a9 button.colab-df-convert');\n",
              "        buttonEl.style.display =\n",
              "          google.colab.kernel.accessAllowed ? 'block' : 'none';\n",
              "\n",
              "        async function convertToInteractive(key) {\n",
              "          const element = document.querySelector('#df-6bda3c08-d766-4b58-bcf0-b80b7d44f6a9');\n",
              "          const dataTable =\n",
              "            await google.colab.kernel.invokeFunction('convertToInteractive',\n",
              "                                                     [key], {});\n",
              "          if (!dataTable) return;\n",
              "\n",
              "          const docLinkHtml = 'Like what you see? Visit the ' +\n",
              "            '<a target=\"_blank\" href=https://colab.research.google.com/notebooks/data_table.ipynb>data table notebook</a>'\n",
              "            + ' to learn more about interactive tables.';\n",
              "          element.innerHTML = '';\n",
              "          dataTable['output_type'] = 'display_data';\n",
              "          await google.colab.output.renderOutput(dataTable, element);\n",
              "          const docLink = document.createElement('div');\n",
              "          docLink.innerHTML = docLinkHtml;\n",
              "          element.appendChild(docLink);\n",
              "        }\n",
              "      </script>\n",
              "    </div>\n",
              "  </div>\n",
              "  "
            ]
          },
          "metadata": {},
          "execution_count": 5
        }
      ]
    },
    {
      "cell_type": "code",
      "source": [
        "#Menampilkan berapa banyak baris dan kolom\n",
        "df.shape "
      ],
      "metadata": {
        "colab": {
          "base_uri": "https://localhost:8080/"
        },
        "id": "QoaxzVIYNZa_",
        "outputId": "4f4ef147-2ab8-4369-8ae2-7d85f1e787a9"
      },
      "execution_count": 6,
      "outputs": [
        {
          "output_type": "execute_result",
          "data": {
            "text/plain": [
              "(2328, 7)"
            ]
          },
          "metadata": {},
          "execution_count": 6
        }
      ]
    },
    {
      "cell_type": "code",
      "source": [
        "#Menampilkan daftar kolom, jumlah null, dan tipe data\n",
        "df.info()"
      ],
      "metadata": {
        "colab": {
          "base_uri": "https://localhost:8080/"
        },
        "id": "6MmMhNWGNfrC",
        "outputId": "57038dfc-e160-43bb-bdd3-35cdb8cb3ac7"
      },
      "execution_count": 7,
      "outputs": [
        {
          "output_type": "stream",
          "name": "stdout",
          "text": [
            "<class 'pandas.core.frame.DataFrame'>\n",
            "RangeIndex: 2328 entries, 0 to 2327\n",
            "Data columns (total 7 columns):\n",
            " #   Column          Non-Null Count  Dtype \n",
            "---  ------          --------------  ----- \n",
            " 0   tweetcreatedts  2328 non-null   object\n",
            " 1   username        2328 non-null   object\n",
            " 2   text            2328 non-null   object\n",
            " 3   source          2328 non-null   object\n",
            " 4   tweet_clean     2328 non-null   object\n",
            " 5   tweet_english   2328 non-null   object\n",
            " 6   klasifikasi     2328 non-null   object\n",
            "dtypes: object(7)\n",
            "memory usage: 127.4+ KB\n"
          ]
        }
      ]
    },
    {
      "cell_type": "code",
      "source": [
        "# calculating missingess of entire DF\n",
        "missingness = df.isnull().sum().sum() / df.count().sum()\n",
        "print('Overall Missingness of df is: {:.2f}%'.format(missingness * 100))\n",
        "\n",
        "# Create table for missing data analysis\n",
        "def missing_table(df):\n",
        "    total = df.isnull().sum().sort_values(ascending=False)\n",
        "    percent = (df.isnull().sum()/df.isnull().count()).sort_values(ascending=False)\n",
        "    missing_data = pd.concat([total, percent], axis=1, keys=['Total', 'Percent'])\n",
        "    return missing_data\n",
        "\n",
        "# Analyze missing data\n",
        "missing_table(df).head(10)"
      ],
      "metadata": {
        "colab": {
          "base_uri": "https://localhost:8080/",
          "height": 286
        },
        "id": "wMX6NZ-_NtTc",
        "outputId": "a6e3fa67-37f8-4d02-fd11-a8e411f6902e"
      },
      "execution_count": 8,
      "outputs": [
        {
          "output_type": "stream",
          "name": "stdout",
          "text": [
            "Overall Missingness of df is: 0.00%\n"
          ]
        },
        {
          "output_type": "execute_result",
          "data": {
            "text/plain": [
              "                Total  Percent\n",
              "tweetcreatedts      0      0.0\n",
              "username            0      0.0\n",
              "text                0      0.0\n",
              "source              0      0.0\n",
              "tweet_clean         0      0.0\n",
              "tweet_english       0      0.0\n",
              "klasifikasi         0      0.0"
            ],
            "text/html": [
              "\n",
              "  <div id=\"df-0ef3b813-da97-40de-90f9-4e0d7cbf61dd\">\n",
              "    <div class=\"colab-df-container\">\n",
              "      <div>\n",
              "<style scoped>\n",
              "    .dataframe tbody tr th:only-of-type {\n",
              "        vertical-align: middle;\n",
              "    }\n",
              "\n",
              "    .dataframe tbody tr th {\n",
              "        vertical-align: top;\n",
              "    }\n",
              "\n",
              "    .dataframe thead th {\n",
              "        text-align: right;\n",
              "    }\n",
              "</style>\n",
              "<table border=\"1\" class=\"dataframe\">\n",
              "  <thead>\n",
              "    <tr style=\"text-align: right;\">\n",
              "      <th></th>\n",
              "      <th>Total</th>\n",
              "      <th>Percent</th>\n",
              "    </tr>\n",
              "  </thead>\n",
              "  <tbody>\n",
              "    <tr>\n",
              "      <th>tweetcreatedts</th>\n",
              "      <td>0</td>\n",
              "      <td>0.0</td>\n",
              "    </tr>\n",
              "    <tr>\n",
              "      <th>username</th>\n",
              "      <td>0</td>\n",
              "      <td>0.0</td>\n",
              "    </tr>\n",
              "    <tr>\n",
              "      <th>text</th>\n",
              "      <td>0</td>\n",
              "      <td>0.0</td>\n",
              "    </tr>\n",
              "    <tr>\n",
              "      <th>source</th>\n",
              "      <td>0</td>\n",
              "      <td>0.0</td>\n",
              "    </tr>\n",
              "    <tr>\n",
              "      <th>tweet_clean</th>\n",
              "      <td>0</td>\n",
              "      <td>0.0</td>\n",
              "    </tr>\n",
              "    <tr>\n",
              "      <th>tweet_english</th>\n",
              "      <td>0</td>\n",
              "      <td>0.0</td>\n",
              "    </tr>\n",
              "    <tr>\n",
              "      <th>klasifikasi</th>\n",
              "      <td>0</td>\n",
              "      <td>0.0</td>\n",
              "    </tr>\n",
              "  </tbody>\n",
              "</table>\n",
              "</div>\n",
              "      <button class=\"colab-df-convert\" onclick=\"convertToInteractive('df-0ef3b813-da97-40de-90f9-4e0d7cbf61dd')\"\n",
              "              title=\"Convert this dataframe to an interactive table.\"\n",
              "              style=\"display:none;\">\n",
              "        \n",
              "  <svg xmlns=\"http://www.w3.org/2000/svg\" height=\"24px\"viewBox=\"0 0 24 24\"\n",
              "       width=\"24px\">\n",
              "    <path d=\"M0 0h24v24H0V0z\" fill=\"none\"/>\n",
              "    <path d=\"M18.56 5.44l.94 2.06.94-2.06 2.06-.94-2.06-.94-.94-2.06-.94 2.06-2.06.94zm-11 1L8.5 8.5l.94-2.06 2.06-.94-2.06-.94L8.5 2.5l-.94 2.06-2.06.94zm10 10l.94 2.06.94-2.06 2.06-.94-2.06-.94-.94-2.06-.94 2.06-2.06.94z\"/><path d=\"M17.41 7.96l-1.37-1.37c-.4-.4-.92-.59-1.43-.59-.52 0-1.04.2-1.43.59L10.3 9.45l-7.72 7.72c-.78.78-.78 2.05 0 2.83L4 21.41c.39.39.9.59 1.41.59.51 0 1.02-.2 1.41-.59l7.78-7.78 2.81-2.81c.8-.78.8-2.07 0-2.86zM5.41 20L4 18.59l7.72-7.72 1.47 1.35L5.41 20z\"/>\n",
              "  </svg>\n",
              "      </button>\n",
              "      \n",
              "  <style>\n",
              "    .colab-df-container {\n",
              "      display:flex;\n",
              "      flex-wrap:wrap;\n",
              "      gap: 12px;\n",
              "    }\n",
              "\n",
              "    .colab-df-convert {\n",
              "      background-color: #E8F0FE;\n",
              "      border: none;\n",
              "      border-radius: 50%;\n",
              "      cursor: pointer;\n",
              "      display: none;\n",
              "      fill: #1967D2;\n",
              "      height: 32px;\n",
              "      padding: 0 0 0 0;\n",
              "      width: 32px;\n",
              "    }\n",
              "\n",
              "    .colab-df-convert:hover {\n",
              "      background-color: #E2EBFA;\n",
              "      box-shadow: 0px 1px 2px rgba(60, 64, 67, 0.3), 0px 1px 3px 1px rgba(60, 64, 67, 0.15);\n",
              "      fill: #174EA6;\n",
              "    }\n",
              "\n",
              "    [theme=dark] .colab-df-convert {\n",
              "      background-color: #3B4455;\n",
              "      fill: #D2E3FC;\n",
              "    }\n",
              "\n",
              "    [theme=dark] .colab-df-convert:hover {\n",
              "      background-color: #434B5C;\n",
              "      box-shadow: 0px 1px 3px 1px rgba(0, 0, 0, 0.15);\n",
              "      filter: drop-shadow(0px 1px 2px rgba(0, 0, 0, 0.3));\n",
              "      fill: #FFFFFF;\n",
              "    }\n",
              "  </style>\n",
              "\n",
              "      <script>\n",
              "        const buttonEl =\n",
              "          document.querySelector('#df-0ef3b813-da97-40de-90f9-4e0d7cbf61dd button.colab-df-convert');\n",
              "        buttonEl.style.display =\n",
              "          google.colab.kernel.accessAllowed ? 'block' : 'none';\n",
              "\n",
              "        async function convertToInteractive(key) {\n",
              "          const element = document.querySelector('#df-0ef3b813-da97-40de-90f9-4e0d7cbf61dd');\n",
              "          const dataTable =\n",
              "            await google.colab.kernel.invokeFunction('convertToInteractive',\n",
              "                                                     [key], {});\n",
              "          if (!dataTable) return;\n",
              "\n",
              "          const docLinkHtml = 'Like what you see? Visit the ' +\n",
              "            '<a target=\"_blank\" href=https://colab.research.google.com/notebooks/data_table.ipynb>data table notebook</a>'\n",
              "            + ' to learn more about interactive tables.';\n",
              "          element.innerHTML = '';\n",
              "          dataTable['output_type'] = 'display_data';\n",
              "          await google.colab.output.renderOutput(dataTable, element);\n",
              "          const docLink = document.createElement('div');\n",
              "          docLink.innerHTML = docLinkHtml;\n",
              "          element.appendChild(docLink);\n",
              "        }\n",
              "      </script>\n",
              "    </div>\n",
              "  </div>\n",
              "  "
            ]
          },
          "metadata": {},
          "execution_count": 8
        }
      ]
    },
    {
      "cell_type": "code",
      "source": [
        "#Hapus baris yang memiliki nilai null\n",
        "df.dropna(inplace=True)"
      ],
      "metadata": {
        "id": "K1K_L9KSN5Qn"
      },
      "execution_count": 9,
      "outputs": []
    },
    {
      "cell_type": "code",
      "source": [
        "#Lihat duplikat data\n",
        "duplCheck = df.duplicated().sum()\n",
        "duplCheck"
      ],
      "metadata": {
        "colab": {
          "base_uri": "https://localhost:8080/"
        },
        "id": "Q3wF5MPAOEig",
        "outputId": "22b76a4b-480d-4930-f42a-abca51fc0b15"
      },
      "execution_count": 10,
      "outputs": [
        {
          "output_type": "execute_result",
          "data": {
            "text/plain": [
              "28"
            ]
          },
          "metadata": {},
          "execution_count": 10
        }
      ]
    },
    {
      "cell_type": "code",
      "source": [
        "#Remove duplicate\n",
        "df = df.reset_index(drop=True).drop_duplicates(subset='text', keep=\"last\", ignore_index=True)"
      ],
      "metadata": {
        "id": "T0hW8E2xOm4U"
      },
      "execution_count": 11,
      "outputs": []
    },
    {
      "cell_type": "code",
      "source": [
        "#Mneghitung jumlah klasifikasi\n",
        "df[\"klasifikasi\"].value_counts()"
      ],
      "metadata": {
        "colab": {
          "base_uri": "https://localhost:8080/"
        },
        "id": "5yN05WISM0Bn",
        "outputId": "ca4912ff-c632-4f7b-b6ae-c73df530c406"
      },
      "execution_count": 12,
      "outputs": [
        {
          "output_type": "execute_result",
          "data": {
            "text/plain": [
              "Positif    1225\n",
              "Negatif    1069\n",
              "Name: klasifikasi, dtype: int64"
            ]
          },
          "metadata": {},
          "execution_count": 12
        }
      ]
    },
    {
      "cell_type": "code",
      "source": [
        "#Membuat datagrame baru yang terdiri dari kolom tweet dan klasifikasi saja\n",
        "df = pd.DataFrame(df[['text', 'klasifikasi']])"
      ],
      "metadata": {
        "id": "3WvWHgNkPMlZ"
      },
      "execution_count": 13,
      "outputs": []
    },
    {
      "cell_type": "markdown",
      "source": [
        "### Case Folding, Menghilangkan tanda baca dan karakter yang tidak diperlukan"
      ],
      "metadata": {
        "id": "fvIUoHB-p7ok"
      }
    },
    {
      "cell_type": "code",
      "source": [
        "# membuat fungsi untuk case folding\n",
        "def casefolding(tweet_df):\n",
        "    pattern = re.compile(r'http[s]?://(?:[a-zA-Z]|[0-9]|[$-_@.&+]|[!*\\(\\),]|(?:%[0-9a-fA-F][0-9a-fA-F]))+')\n",
        "    pattern1 = re.compile(r'pic.twitter.com/(?:[a-zA-Z]|[0-9]|[$-_@.&+]|[!*\\(\\),]|(?:%[0-9a-fA-F][0-9a-fA-F]))+')\n",
        "    tweet_df = re.sub(pattern,' ',tweet_df) #remove urls if any\n",
        "    tweet_df = re.sub(pattern1,' ',tweet_df)\n",
        "    #Convert to lower case\n",
        "    tweet_df = tweet_df.lower()                                \n",
        "     #Convert www.* or https?://*\n",
        "    tweet_df = re.sub('((www\\.[^\\s]+)|(https?://[^\\s]+))','',tweet_df) \n",
        "    #Convert @username to AT_USER\n",
        "    tweet_df = re.sub('@+','',tweet_df)\n",
        "     #Remove additional white spaces\n",
        "    tweet_df = re.sub('[\\s]+', ' ', tweet_df)\n",
        "    #Replace #word with word\n",
        "    tweet_df  = re.sub(r'#([^\\s]+)', r'\\1', tweet_df )\n",
        "    #remove symbols\n",
        "    tweet_df = re.sub(r'[^.,a-zA-Z0-9 \\n\\.]',' ',tweet_df)\n",
        "    tweet_df = re.sub(r'[-+]?[0-9]+', '', tweet_df)  \n",
        "    tweet_df = tweet_df.replace(',',' ').replace('.',' ')          \n",
        "    tweet_df = re.sub(r'[^\\w\\s]', '', tweet_df)    \n",
        "    #trim             \n",
        "    tweet_df = tweet_df.strip('\\'\"')\n",
        "    return tweet_df"
      ],
      "metadata": {
        "id": "zX2Xn8oyZ7iL"
      },
      "execution_count": 14,
      "outputs": []
    },
    {
      "cell_type": "markdown",
      "source": [
        "### Normalisasi, Merubah kata menjadi baku"
      ],
      "metadata": {
        "id": "6jNDMm7epuaq"
      }
    },
    {
      "cell_type": "code",
      "source": [
        "key_norm = pd.read_csv('https://raw.githubusercontent.com/FaddliLWibowo/Twitter-Sentiment-Analysis-with-Streamlit/main/Dataset/kamus-slang-ind.csv', encoding='ISO-8859-1')\n",
        "\n",
        "def text_normalize(tweet_df):\n",
        "    tweet_df = ' '.join([key_norm[key_norm['singkat'] == word]['hasil'].values[0]\n",
        "    if (key_norm['singkat'] == word).any()\n",
        "    else word for word in tweet_df.split()\n",
        "    ])\n",
        "    tweet_df = str.lower(tweet_df)\n",
        "    return tweet_df"
      ],
      "metadata": {
        "id": "t3SUbJ2Asz3l"
      },
      "execution_count": 15,
      "outputs": []
    },
    {
      "cell_type": "markdown",
      "source": [
        "### Stopword dan Tokenization, kata umum yang tidak memberikan informasi penting/tidak memiliki makna"
      ],
      "metadata": {
        "id": "OkfTO0uTpnwP"
      }
    },
    {
      "cell_type": "code",
      "source": [
        "stopwords_ind = stopwords.words('indonesian')\n",
        "more_stopword = ['terusmajubersamaprabowo', 'mendingprabowo', 'prabowopresiden', 'prabowopersatuanindonesia', 'prabowosubianto']\n",
        "stopwords_ind = stopwords_ind + more_stopword\n",
        "\n",
        "def remove_stop_word(tweet_df):\n",
        "    clean_words = []\n",
        "    tweet_df = tweet_df.split()\n",
        "    for word in tweet_df:\n",
        "        if word not in stopwords_ind:\n",
        "            clean_words.append(word)\n",
        "    return \" \".join(clean_words)"
      ],
      "metadata": {
        "id": "QRc3YBPGs5zY"
      },
      "execution_count": 16,
      "outputs": []
    },
    {
      "cell_type": "markdown",
      "source": [
        "### Stemming, berfungsi untuk menghilangkan imbuhan dan kembali ke kata dasar"
      ],
      "metadata": {
        "id": "TFDeENyzqwTv"
      }
    },
    {
      "cell_type": "code",
      "source": [
        "factory = StemmerFactory()\n",
        "stemmer = factory.create_stemmer()\n",
        "\n",
        "# membuat fungsi untuk stemming bahasa indonesia\n",
        "def stemming(tweet_df):\n",
        "    tweet_df = stemmer.stem(tweet_df)\n",
        "    return tweet_df"
      ],
      "metadata": {
        "id": "SNfSJ8TNs-Jv"
      },
      "execution_count": 17,
      "outputs": []
    },
    {
      "cell_type": "markdown",
      "source": [
        "### Text preprocessing pipeline"
      ],
      "metadata": {
        "id": "FdaOpw2W1QSV"
      }
    },
    {
      "cell_type": "code",
      "source": [
        "# membuat fungsi untuk menggabungkan seluruh langkah text preprocessing\n",
        "def text_preprocessing(tweet_df):\n",
        "    tweet_df = casefolding(tweet_df)\n",
        "    tweet_df = text_normalize(tweet_df)\n",
        "    tweet_df = remove_stop_word(tweet_df)\n",
        "    tweet_df = stemming(tweet_df)\n",
        "    return tweet_df\n",
        "\n",
        "df['text'] = df['text'].apply(text_preprocessing)"
      ],
      "metadata": {
        "id": "f95rdXVGtDvH"
      },
      "execution_count": 18,
      "outputs": []
    },
    {
      "cell_type": "code",
      "source": [
        "df.to_csv(\"Data-hasil-preprocessing.csv\",encoding='utf-8',index=False)"
      ],
      "metadata": {
        "id": "2XWLoEqztqHV"
      },
      "execution_count": 19,
      "outputs": []
    },
    {
      "cell_type": "markdown",
      "source": [
        "### Klasifikasi Menngunakan Naive Bayes"
      ],
      "metadata": {
        "id": "TldRtVTpHex0"
      }
    },
    {
      "cell_type": "code",
      "source": [
        "newData = pd.read_csv('Data-hasil-preprocessing.csv',encoding='ISO-8859-1')"
      ],
      "metadata": {
        "id": "i7whyUuO2Crb"
      },
      "execution_count": 20,
      "outputs": []
    },
    {
      "cell_type": "code",
      "source": [
        "from sklearn.feature_extraction.text import CountVectorizer\n",
        "bow_transformer = CountVectorizer().fit(newData['text']) \n",
        "bow_transformer.vocabulary_"
      ],
      "metadata": {
        "id": "U0CAT0_WEtbC"
      },
      "execution_count": null,
      "outputs": []
    },
    {
      "cell_type": "code",
      "source": [
        "tokens = bow_transformer.get_feature_names()\n",
        "print(tokens)"
      ],
      "metadata": {
        "id": "3qENjUSEFIUw",
        "colab": {
          "base_uri": "https://localhost:8080/"
        },
        "outputId": "05155817-a1eb-4dd8-9779-53d39356c6b6"
      },
      "execution_count": 22,
      "outputs": [
        {
          "output_type": "stream",
          "name": "stdout",
          "text": [
            "['aalona', 'aan', 'aapa', 'aas', 'ab', 'abal', 'abang', 'abas', 'abby', 'abdi', 'abdul', 'abdulfickarhadjar', 'abis', 'abram', 'abu', 'abud', 'abuse', 'abw', 'acara', 'account', 'aceh', 'achika', 'achmad', 'achmadi', 'ada', 'adaapadisihite', 'adaapahariini', 'adab', 'adakan', 'adam', 'adat', 'address', 'adearysyam', 'adegan', 'adekmu', 'adik', 'adil', 'adilmakmur', 'adipala', 'admin', 'administrasi', 'adopsi', 'adu', 'adua', 'adudomba', 'aduh', 'aespastconcertsynk', 'afrizalhady', 'ag', 'aga', 'agam', 'agama', 'agen', 'agenda', 'agens', 'agh', 'agn', 'agnes', 'agnesdavid', 'agnesgracia', 'agnesgraciaharyanto', 'agnez', 'agraria', 'ags', 'agung', 'agus', 'agusharimurtiyudhoyono', 'aguskurniawan', 'agusnupatria', 'agusnurpatria', 'agusyudhoyono', 'ah', 'aha', 'aher', 'ahli', 'ahmad', 'ahmadheryawan', 'ahmadmuzani', 'ahmadoxavian', 'ahmadsyaikhu', 'ahok', 'ahyeon', 'ahypimpinperubahan', 'ai', 'aib', 'aiman', 'aimanwitjaksono', 'aimaryati', 'ainul', 'ainulyaqin', 'aipda', 'aiptu', 'air', 'airlangga', 'airlanggahartarto', 'ajak', 'ajang', 'ajar', 'aji', 'aju', 'ajun', 'akademisi', 'akal', 'akar', 'akbar', 'akhirnyaa', 'akhlak', 'aki', 'akibat', 'akiwa', 'akpol', 'akrab', 'akses', 'aksi', 'aksipengeroyokan', 'akta', 'aktif', 'aktivitas', 'aktual', 'aku', 'akun', 'akurasi', 'akurat', 'akuratmenyajikaninformasi', 'akut', 'al', 'ala', 'alah', 'alaidid', 'alaihi', 'alam', 'alamat', 'alami', 'alangkah', 'alas', 'alasanya', 'alat', 'albacete', 'aldebaran', 'aldisubarno', 'aldo', 'algojo', 'alhamduliah', 'alhamdulillah', 'alhasil', 'alhi', 'ali', 'alias', 'alih', 'alim', 'alir', 'alissa', 'alissawahid', 'aliuwawa', 'alkohol', 'allah', 'allahswt', 'allahu', 'allo', 'almarhum', 'alternatif', 'alumni', 'alun', 'alur', 'ama', 'amal', 'aman', 'amanah', 'amanat', 'amanda', 'amanin', 'amat', 'ambang', 'ambek', 'ambil', 'ambisius', 'amburadul', 'ambyar', 'america', 'amerika', 'ametoka', 'amicuscuriae', 'amien', 'amin', 'aming', 'amnjaaaay', 'amnya', 'amoy', 'amp', 'ampo', 'ampun', 'amriel', 'amril', 'amsori', 'amuk', 'amunisi', 'an', 'anak', 'anakane', 'anakdirjenpajak', 'anakditjenpajak', 'anakferdysambo', 'anakpejabat', 'anakpejabatpajak', 'anakpejabatpajakaniayaremaja', 'anakpejabatpajakr', 'anaksma', 'anaksmp', 'analis', 'analisa', 'analisisa', 'analogi', 'ananta', 'anatara', 'ancam', 'ancene', 'and', 'andai', 'andika', 'andin', 'andre', 'andreas', 'aneh', 'aneis', 'angelatanoesoedibjo', 'angelina', 'angelinaprasasya', 'anggap', 'anggar', 'anggota', 'anggur', 'angin', 'angka', 'angkat', 'angkut', 'aniaya', 'aniayadavid', 'anies', 'aniesahy', 'aniesbaswedan', 'aniesbaswedanforpresident', 'aniesbaswedangagal', 'aniesbaswedanmenjiplaksloganjakarta', 'aniesberhutang', 'aniesbukanpribumi', 'aniescalonpresiden', 'aniesdidukungkhilafah', 'aniesdidukungkoruptor', 'aniesforpresidenri', 'aniesgabecuskerja', 'aniesgabenerjakarta', 'aniesgabenerpembohong', 'aniesgagal', 'aniesgagalkerja', 'aniesgagaltotal', 'aniesgakbisakerja', 'aniesgakpunyapartai', 'aniesgubernurjakarta', 'aniesjanjijanji', 'anieskeren', 'aniesnaikdelman', 'aniesnasdemout', 'aniesnya', 'aniesout', 'aniespendukungfpi', 'aniespendukungormasradikal', 'aniespks', 'aniespresiden', 'aniespresidenku', 'aniespresidenri', 'aniesrasyidbaswedan', 'aniesutang', 'anis', 'anissa', 'anissaaziza', 'anjayyyy', 'anjenggg', 'anjing', 'anjir', 'anjlok', 'anjr', 'anjur', 'annisaaziza', 'anonim', 'ansar', 'ansor', 'ansordki', 'antar', 'antirungkad', 'antisipasi', 'antitesis', 'antmanandthewaspquantumania', 'antre', 'antri', 'antuk', 'antusias', 'anu', 'anugerah', 'anung', 'anwarsadadgubernur', 'anyar', 'apa', 'apabae', 'apakh', 'aparat', 'aparatur', 'apel', 'apelpagi', 'api', 'aplikasi', 'app', 'apresiasi', 'april', 'aqil', 'arah', 'arang', 'arap', 'arci', 'ardhyana', 'are', 'area', 'arema', 'aremaday', 'argumen', 'ari', 'ariefrachman', 'ariefrachmanarifin', 'ariel', 'arif', 'arifin', 'arifrachman', 'arifrachmanarifi', 'arifrachmanarifin', 'arifrahman', 'arlyana', 'arogan', 'aroma', 'art', 'arti', 'artidn', 'artikel', 'artis', 'artistandstaff', 'artistontwitter', 'artists', 'artistsupport', 'artmoots', 'artwork', 'ary', 'aryantha', 'as', 'asa', 'asal', 'asasi', 'asean', 'asi', 'asing', 'asisten', 'askar', 'asli', 'asmara', 'asosiasi', 'aspek', 'aspirasi', 'assessment', 'astagfirullah', 'astaghfirullaahhhhhh', 'astrid', 'asuh', 'asukabe', 'asumsi', 'asupan', 'asuransi', 'at', 'atas', 'atasnamacinta', 'atie', 'atin', 'atiqoh', 'atlet', 'atma', 'atraksi', 'atret', 'attitude', 'atur', 'audiensi', 'aura', 'auto', 'awak', 'awal', 'awas', 'awat', 'awikwok', 'awokawok', 'axon', 'axonal', 'ayah', 'ayahanda', 'ayahbrigadirj', 'ayahmariodandy', 'ayam', 'ayat', 'ayi', 'ayo', 'ayobayarpajak', 'ayokitavaksin', 'ayom', 'ayovaks', 'aziza', 'ba', 'baaaacot', 'bab', 'babak', 'babat', 'babi', 'baby', 'babyboomer', 'babysdayout', 'baca', 'bacadibj', 'bacaleg', 'bacapres', 'bachrum', 'bachrumachmadi', 'back', 'backingan', 'bacot', 'badai', 'badan', 'badanhukum', 'badanusaha', 'bag', 'bagi', 'bagus', 'bahag', 'bahagia', 'bahan', 'bahas', 'bahasa', 'bahati', 'bahaya', 'bahrawi', 'bahu', 'bahya', 'baik', 'baintelkam', 'baiquni', 'baiquniwibowo', 'baitul', 'baja', 'bajing', 'bajong', 'baju', 'baka', 'bakar', 'bakteri', 'bal', 'balai', 'balaidesa', 'balance', 'balas', 'balik', 'balut', 'bambang', 'bambu', 'bamyak', 'ban', 'banci', 'band', 'bandar', 'bandara', 'bandel', 'banding', 'bandit', 'bandung', 'baner', 'bang', 'banget', 'bangete', 'bangga', 'banggusirawan', 'bangka', 'bangkelah', 'bangkit', 'bangkitbersama', 'bangkrut', 'bangsa', 'bangsat', 'bangun', 'banjar', 'banjarnegara', 'banjir', 'banjirlamongan', 'bank', 'bankeu', 'bansos', 'bantah', 'bantaran', 'banten', 'bantenhay', 'bantu', 'banyak', 'banyuwangi', 'bapak', 'bapakidentitas', 'bapakpolitikidentitas', 'bapal', 'baradae', 'baradhae', 'barakallahpak', 'barang', 'barat', 'barcelona', 'barcode', 'bareng', 'baret', 'baring', 'baris', 'barometer', 'baru', 'bas', 'basah', 'basar', 'basarnas', 'basipakak', 'basuki', 'baswedan', 'batal', 'batalyon', 'batam', 'batang', 'batas', 'batch', 'batik', 'batin', 'batman', 'batu', 'bau', 'bawa', 'bawah', 'bawal', 'bayam', 'bayang', 'bayar', 'bayarpajak', 'bayi', 'bb', 'bbm', 'bbtaitans', 'bbtitans', 'bcara', 'be', 'bea', 'beacukai', 'beacukaihedon', 'beagle', 'beban', 'bebas', 'bebenah', 'beber', 'becek', 'becik', 'becus', 'beda', 'begitu', 'behhh', 'bekas', 'beking', 'bekti', 'bela', 'beladiri', 'belaga', 'belah', 'belanda', 'belanja', 'belanjawan', 'belarus', 'belasting', 'belastingrijder', 'beli', 'belia', 'beliau', 'beloon', 'benah', 'benar', 'benci', 'bendera', 'bengkulu', 'benning', 'bentak', 'bentang', 'bentar', 'bentuk', 'bentur', 'beranda', 'berangkat', 'berangus', 'berani', 'berantas', 'berantaskorupsi', 'beras', 'berat', 'berenana', 'berengsek', 'beres', 'berfikir', 'bergitu', 'beri', 'berisik', 'berita', 'beritabaru', 'beritabaruco', 'beritaelshinta', 'beritaharian', 'beritahariini', 'beritaindonesia', 'beritajabar', 'beritajakarta', 'beritajateng', 'beritajatim', 'beritajogja', 'beritapolitik', 'beritapolitikterkini', 'beritaseputarindonesia', 'beritaterbaru', 'beritaterbarusambo', 'beritaviral', 'beritaviralhariini', 'berk', 'berkah', 'berkarir', 'berkat', 'berkerjasama', 'berontak', 'berprilaku', 'bersamajuara', 'bersamalawancorona', 'bersamaorangbaikuntukindonesialebihbaik', 'bersatulawancovid', 'bersih', 'berswafoto', 'berterimakasih', 'beruang', 'besar', 'besaranya', 'besi', 'besok', 'best', 'besti', 'bestiee', 'bestii', 'besuk', 'betah', 'better', 'bh', 'bhabin', 'bharada', 'bharadae', 'bharadaeberseragamlengkap', 'bharadaekembaliberdinas', 'bharadaeliezer', 'bharadaelizer', 'bharadarichardeliezerpudihanglumiu', 'bharade', 'bhayangkara', 'biadab', 'biak', 'biang', 'biar', 'biarla', 'bias', 'biasa', 'biaya', 'bib', 'bibit', 'bicara', 'bidan', 'bidang', 'bighit', 'bijak', 'bijaksana', 'biji', 'bik', 'bikin', 'bilang', 'bilik', 'bilikkayu', 'bilikkayuheritage', 'bilikkayuheritageresto', 'bilikkopi', 'bimbing', 'bin', 'bina', 'bincang', 'bineka', 'bingung', 'bintang', 'bintangemon', 'bintangmudaindonesia', 'bintara', 'bio', 'biodata', 'biografi', 'biro', 'biru', 'bisa', 'bisik', 'bisma', 'bismillah', 'bisnis', 'bissmillah', 'bjarkan', 'blackpink', 'blak', 'bledos', 'bletheng', 'blii', 'blog', 'blok', 'blusuk', 'bmiuntukahy', 'bnadung', 'bobrok', 'bocah', 'bocahdewe', 'bocahedewe', 'bocor', 'bodi', 'bodoamatan', 'bodoh', 'bodong', 'body', 'bogor', 'bohir', 'bohong', 'bok', 'bola', 'bolak', 'bom', 'boneka', 'bong', 'bongkar', 'bonus', 'bool', 'booster', 'borjuis', 'boro', 'borok', 'boros', 'bos', 'botol', 'boy', 'boys', 'bpbd', 'bpn', 'bram', 'branding', 'bravo', 'brbas', 'breakingnews', 'breakingnewsmetrotv', 'brig', 'brigade', 'brigaderj', 'brigadia', 'brigadir', 'brigadire', 'brigadirj', 'brigadirjoshua', 'brigadiryosua', 'brigjen', 'brigjenahmadramadhan', 'briics', 'brimobpolri', 'brimobuntukindonesia', 'briptu', 'brklakuan', 'bro', 'broker', 'brooo', 'brpasangn', 'brrutal', 'brutal', 'bta', 'btn', 'btsarmy', 'bu', 'buah', 'bual', 'buang', 'buat', 'bubar', 'bubuh', 'bubuk', 'budak', 'budaya', 'budi', 'budimansudjatmiko', 'bugisviral', 'bui', 'build', 'buk', 'buka', 'bukanberitabiasa', 'bukanpakdewan', 'bukateja', 'bukhar', 'bukit', 'bukt', 'bukti', 'buktiiiiii', 'buku', 'bulan', 'buletininews', 'buletinterkinimengabarkan', 'bullshit', 'bully', 'bullying', 'bulu', 'bulustalan', 'bumi', 'bumiputera', 'bunda', 'bundacorla', 'bung', 'bunga', 'bungkus', 'bungul', 'buntu', 'buntung', 'buntut', 'bunuh', 'bunuhanakorang', 'bunut', 'bunyi', 'bupati', 'burger', 'burisma', 'buru', 'buruk', 'bus', 'buset', 'busui', 'busuk', 'busway', 'buta', 'butuh', 'buzzer', 'buzzernya', 'buzzerrp', 'by', 'bzk', 'cabai', 'cabang', 'cabul', 'cacat', 'cache', 'cahaya', 'cair', 'cak', 'cakap', 'call', 'calo', 'calon', 'calonpresiden', 'camat', 'cambodia', 'campain', 'campur', 'canang', 'canda', 'candirejo', 'candirejogumregah', 'candra', 'candrawathi', 'candrawati', 'candu', 'canggih', 'cangkrukan', 'cantik', 'canvasing', 'cap', 'capai', 'capcut', 'capek', 'capre', 'caprescawapres', 'capreskan', 'capresri', 'car', 'carabaocupfinal', 'cari', 'cariberitaditvone', 'caripartai', 'carisensasi', 'carisuara', 'carut', 'case', 'casemiro', 'casino', 'catat', 'cause', 'cawapresanies', 'cc', 'cctv', 'cctvindonesia', 'cdo', 'cebkin', 'cebong', 'cedera', 'cederadai', 'cederaotak', 'cegah', 'cek', 'cekfakta', 'cekidott', 'celaka', 'celana', 'cemar', 'cemburu', 'cemooh', 'cempaka', 'cendana', 'cengengesan', 'center', 'cepat', 'cepek', 'cepol', 'cerah', 'cerdas', 'cerdik', 'cerewet', 'ceria', 'cerita', 'cesar', 'cetak', 'cewek', 'cewekwajo', 'cf', 'cha', 'chaaakkzzz', 'championsleague', 'chandrawati', 'changcuters', 'change', 'channel', 'chanyeol', 'chaos', 'charismiaji', 'chat', 'chatgpt', 'chatime', 'checkout', 'chelsea', 'chicken', 'chinappi', 'chindo', 'choco', 'choi', 'cholil', 'chotimah', 'christ', 'chryshnanda', 'cht', 'chuaakkzz', 'chuaks', 'chuck', 'chuckputranto', 'ci', 'ciamis', 'ciamisuntukganjar', 'cibir', 'cicip', 'ciduk', 'cih', 'cikereteg', 'cilacap', 'cilik', 'ciliwung', 'cimahi', 'cina', 'cinta', 'cipta', 'ciptakerja', 'circle', 'cirebon', 'ciri', 'cita', 'citra', 'city', 'citywalk', 'cium', 'ciut', 'client', 'closethedoor', 'clothing', 'club', 'cmiw', 'cnn', 'coba', 'cocok', 'codot', 'cok', 'cokelat', 'cokok', 'cokrotv', 'collaborator', 'commodities', 'compare', 'congor', 'consent', 'continuity', 'contoh', 'copot', 'cor', 'cordoba', 'coret', 'corporate', 'course', 'cover', 'covid', 'cowok', 'cristalino', 'cristalinodavidozora', 'crossing', 'crypto', 'csmisteriusbca', 'csr', 'csrnya', 'cuaca', 'cuannya', 'cuat', 'cuci', 'cuciuang', 'cucu', 'cuek', 'cuit', 'cuk', 'cukai', 'culture', 'culun', 'cupu', 'curah', 'curang', 'curhat', 'curhatan', 'curhatannya', 'curi', 'curiga', 'cus', 'cuss', 'customer', 'cuwelolor', 'cybernu', 'dada', 'dadak', 'dadang', 'daerah', 'daftar', 'dagang', 'dagel', 'dagu', 'dah', 'dahnil', 'dahsyat', 'dahulu', 'dai', 'dak', 'dakjal', 'dakwa', 'dalam', 'dalane', 'dalang', 'dalil', 'dam', 'damai', 'damaiindonesia', 'damba', 'dampak', 'damping', 'dana', 'dandi', 'dandiagnes', 'dandy', 'dandyagnes', 'dandyaniayadavid', 'danjen', 'danpedagang', 'danyonif', 'dapat', 'dar', 'darah', 'darat', 'dardak', 'darkart', 'dasar', 'dasco', 'data', 'datang', 'david', 'davidanakkami', 'davidansor', 'davidgadgetin', 'davidlatumahina', 'davidozora', 'davidson', 'davidviral', 'davidwarner', 'davit', 'day', 'daya', 'deal', 'debat', 'deddycorbuzier', 'dedek', 'degadjah', 'deh', 'dekade', 'dekat', 'deklarasi', 'deklarasianies', 'deklarasiin', 'delapan', 'delman', 'demak', 'demger', 'demokrasi', 'demokrat', 'demokratis', 'demokratsp', 'demosi', 'denda', 'dendam', 'dendy', 'dengangembira', 'dengar', 'dengaramatireaksi', 'deny', 'depan', 'depo', 'deposit', 'deputi', 'deras', 'deret', 'derita', 'deru', 'desa', 'desak', 'desember', 'design', 'destinasi', 'detail', 'detasemen', 'detik', 'detikcom', 'detikdetik', 'detiknews', 'dewa', 'dewan', 'dgnputra', 'dhabi', 'dhandhy', 'dhandydavid', 'dialog', 'diam', 'dianaya', 'diasinin', 'dibawain', 'dibedain', 'dibiayain', 'dibnagkrutkan', 'dicopy', 'dicurangin', 'didik', 'didu', 'dieksekusimati', 'diffuse', 'diffuseaxonalinjury', 'difuseaxonalinjur', 'digital', 'digitalart', 'digitalpainting', 'digoid', 'dijawan', 'dik', 'dikerjain', 'diketawain', 'dikhndakinya', 'diklat', 'dimatiin', 'dimedsos', 'dimsum', 'dimsumnya', 'dinas', 'dine', 'diner', 'dior', 'dipajakin', 'dipanasin', 'dipansos', 'dipenjarain', 'dipertanggungjawabkan', 'diraguin', 'direct', 'direktoral', 'direktorat', 'direktur', 'direspon', 'dirgahayu', 'diri', 'dirjenpajak', 'dirjenpajakbiangkorupsi', 'disel', 'disikonkan', 'disiplinin', 'disitiulah', 'diskusi', 'dislike', 'dit', 'ditag', 'diterusin', 'ditewak', 'ditindaklanjuti', 'ditingkatin', 'ditjenpajak', 'ditjenpajakri', 'ditlantas', 'ditpolairud', 'ditpolairudpoldasumsel', 'ditukerin', 'diubahfungsikan', 'diusuttt', 'div', 'divhumaspolri', 'diviralin', 'divisi', 'division', 'diy', 'dkb', 'dki', 'dnegan', 'do', 'doa', 'doang', 'dofiri', 'dok', 'dokter', 'doktorandes', 'dokyeom', 'dolar', 'dolfie', 'domba', 'dominasi', 'dompet', 'dongkrak', 'dongok', 'doorprize', 'dorong', 'dosa', 'dosen', 'dosenhilang', 'dpada', 'dpcgerindra', 'dpdgerindrabali', 'dpo', 'dps', 'dpw', 'drama', 'drawing', 'dreamcoidupdate', 'driver', 'drop', 'drshinta', 'drshintawishnuwardhani', 'dubbing', 'dubia', 'dude', 'duduk', 'duehh', 'duek', 'duet', 'duetganjarerick', 'duga', 'duid', 'duit', 'duk', 'duka', 'dukung', 'dul', 'dumdum', 'dunia', 'duo', 'dur', 'duren', 'durentiga', 'dusta', 'dwilaksana', 'ecek', 'edan', 'edar', 'edgars', 'edisi', 'edit', 'edukasi', 'edun', 'edwin', 'edyrahmayadi', 'eeeh', 'eeehhhmm', 'efek', 'effort', 'efisien', 'efisiensi', 'ego', 'egois', 'eh', 'ehhhh', 'eko', 'ekonomi', 'ekonomiindonesia', 'ekor', 'ekosistem', 'ekowidodo', 'eks', 'eksekusi', 'eksekusiferdysambo', 'eksekusimati', 'eksekutif', 'ekskadivpropam', 'eksklusif', 'ekspliistofficial', 'eksplisitkreatifmedia', 'ekspresi', 'ekspresimariodandy', 'ekstrem', 'elak', 'elche', 'electionresults', 'electric', 'elek', 'elektabilitas', 'elektabilitascapres', 'elektabilitasnya', 'elektabilitasturun', 'elektablitas', 'elektoral', 'elektronik', 'eliezer', 'elif', 'elite', 'elmiah', 'elok', 'elrumi', 'elsa', 'elshintanews', 'elte', 'email', 'emak', 'emang', 'emanh', 'emas', 'emban', 'embun', 'emil', 'emildardak', 'emon', 'emosi', 'empat', 'empati', 'empu', 'enak', 'enam', 'endorse', 'endorsejokowi', 'endus', 'enek', 'enerjik', 'english', 'enies', 'enterprise', 'entrepreneur', 'episode', 'equality', 'era', 'erat', 'ercik', 'erick', 'erickthohir', 'ernie', 'erniemeiketorondek', 'eropa', 'erosi', 'erti', 'eru', 'es', 'eselon', 'esemka', 'esports', 'estate', 'et', 'etik', 'etika', 'etitude', 'etle', 'eungelica', 'europaleague', 'euy', 'everest', 'evos', 'exo', 'explore', 'explorepage', 'extrim', 'facebook', 'factory', 'fadil', 'fahnoor', 'fake', 'fakta', 'faktabaru', 'faktor', 'familymart', 'famimart', 'fan', 'fannya', 'fanssambo', 'fantastis', 'farhaniviral', 'fase', 'fashion', 'fasih', 'fasilitas', 'fast', 'fatal', 'favorit', 'favorite', 'fbi', 'fc', 'fcuaja', 'fdl', 'februari', 'feeling', 'fenomena', 'ferdi', 'ferdinandhutahaean', 'ferdisambo', 'ferdy', 'ferdysambo', 'ferdysambotersangka', 'ferragamoxjeno', 'fess', 'figur', 'file', 'film', 'filosofi', 'filterlegend', 'finansial', 'fingerprint', 'finish', 'firli', 'firlibahuri', 'firnah', 'first', 'fisik', 'fit', 'fitnah', 'fix', 'flare', 'flashsale', 'flexing', 'flop', 'floran', 'flow', 'flowers', 'fokus', 'foliculitis', 'follow', 'followthemoney', 'food', 'forces', 'forensik', 'forever', 'forex', 'forkopimcam', 'formal', 'fort', 'forum', 'forumkeadilan', 'forumterkininews', 'foryou', 'foryoupage', 'foryourpage', 'foto', 'fr', 'frame', 'framing', 'free', 'freebet', 'freebetramai', 'freechip', 'fretilin', 'fried', 'front', 'fryandy', 'frz', 'fs', 'fuckers', 'fucking', 'fuji', 'full', 'fungame', 'fungsi', 'fyp', 'gabung', 'gaco', 'gacor', 'gadget', 'gadgetin', 'gadipakein', 'gadjah', 'gadungan', 'gaesss', 'gagah', 'gagal', 'gagas', 'gaib', 'gajebo', 'gaji', 'gakpakebaper', 'galau', 'galaubrutal', 'galaustory', 'gambar', 'gambarwajah', 'gamblang', 'game', 'gaming', 'gampang', 'ganda', 'gandeng', 'ganesha', 'gang', 'ganggu', 'ganjaforpresident', 'ganjar', 'ganjarakanbawakemajuanri', 'ganjaranapp', 'ganjarberikekuatanrimaju', 'ganjarbertanggungjawab', 'ganjarerick', 'ganjarerickgercep', 'ganjarforpresident', 'ganjarhebat', 'ganjarian', 'ganjarianspartan', 'ganjarinaja', 'ganjarist', 'ganjarkita', 'ganjarmilenialcenter', 'ganjarpilihanrakyat', 'ganjarpranowo', 'ganjarpranowofans', 'ganjarpranowoforpresiden', 'ganjarpranowopresiden', 'ganjarpresiden', 'ganjarpresidenku', 'ganjarsiap', 'ganjarterus', 'ganjaruntukindonesia', 'ganjathebat', 'ganjing', 'gantar', 'ganteng', 'ganti', 'gantikapolri', 'gaoaoa', 'gara', 'garda', 'gari', 'garis', 'garnies', 'garoblog', 'garpitnya', 'garuda', 'gas', 'gasal', 'gases', 'gatramediagroup', 'gatur', 'gaul', 'gaung', 'gawat', 'gaya', 'gayeng', 'gayus', 'gebo', 'gebu', 'gebuk', 'gebyar', 'gede', 'gedung', 'gee', 'geger', 'gejala', 'gelandang', 'gelap', 'gelar', 'gelas', 'gelintir', 'gelo', 'gelombang', 'gelora', 'gema', 'gemar', 'gemas', 'gembira', 'gembos', 'gemerlap', 'gemilang', 'gempa', 'gen', 'genang', 'gencar', 'generasi', 'generasistroberi', 'geng', 'genggam', 'gengsi', 'gengsidong', 'genjot', 'genre', 'gentleman', 'genvoice', 'georgia', 'gera', 'gerai', 'gerak', 'geram', 'gerebek', 'gereget', 'gereji', 'geret', 'gerimis', 'gerindra', 'gerindrabali', 'gerindrademak', 'gerindrajateng', 'gerindrajawatengah', 'gerindrajembrana', 'gerindrakotamagelang', 'gerindralamongan', 'gerindramenang', 'gerindrapolmam', 'gerindrasumut', 'gerindratahun', 'gerombol', 'gerung', 'getter', 'gfvip', 'ggmu', 'ghibah', 'ghibli', 'giat', 'gibran', 'gigi', 'gihi', 'gila', 'gilir', 'gin', 'ginny', 'ginyong', 'giring', 'gistlover', 'gitar', 'gitasav', 'givani', 'gizi', 'global', 'glodok', 'glory', 'gluten', 'gmc', 'go', 'goblok', 'god', 'goda', 'gold', 'golkar', 'golkarindonesia', 'gondang', 'gonebloom', 'gonggong', 'gonjang', 'google', 'gordon', 'goreng', 'gorontalo', 'gosend', 'gotham', 'gotong', 'goverment', 'gp', 'gpanshor', 'gpansor', 'grace', 'gracia', 'grafis', 'grand', 'grasi', 'gratis', 'gratisin', 'gray', 'great', 'grobogan', 'grup', 'gsp', 'gtv', 'gtvnews', 'gua', 'gubernr', 'gubernur', 'gubernurdki', 'gubernurjakarta', 'gubernurjateng', 'gubernurjawatengah', 'gubris', 'gudang', 'gugat', 'gugup', 'gugur', 'gulir', 'guna', 'gunadi', 'gunpat', 'gunung', 'gunungkidul', 'gurih', 'guru', 'gus', 'gusbaha', 'gusirawan', 'gusur', 'gusyaqult', 'gusyaqut', 'guys', 'guyss', 'guyub', 'gym', 'habarnya', 'habiburokhman', 'habis', 'hadap', 'hadeeewwh', 'hadeeuhhh', 'hadiah', 'hadimuljono', 'hadir', 'haduuu', 'hafal', 'haha', 'hahahahahahahahaha', 'hai', 'hailey', 'hajaar', 'hajar', 'hajat', 'hak', 'hakasasimanusia', 'hakim', 'hakimtinggi', 'hakimwahyu', 'hal', 'halal', 'halang', 'halim', 'halo', 'halte', 'ham', 'hambalang', 'hambat', 'hamil', 'hampir', 'hananataki', 'hancur', 'handle', 'handphone', 'hangat', 'hanna', 'hantam', 'hanura', 'hapo', 'hapus', 'haram', 'harap', 'hardik', 'hardnews', 'harga', 'hari', 'hariandisway', 'harimurti', 'harkamtibmas', 'harlahipnu', 'harley', 'harry', 'harsodo', 'harta', 'hartakekayaan', 'hartarto', 'harto', 'hartono', 'haru', 'harua', 'haryanto', 'harytanoesoedibjo', 'hasan', 'hasibuan', 'hasil', 'hasto', 'hastokristiyanto', 'hasut', 'hati', 'hattala', 'hawa', 'hawakujua', 'hawana', 'hayati', 'hayo', 'hayuk', 'hazelnut', 'head', 'headline', 'headlinebogor', 'headset', 'heartattack', 'hebat', 'heboh', 'hedonis', 'hehe', 'hehehee', 'hellosehat', 'helm', 'hendardi', 'hendra', 'hendrakurniawan', 'hendrakurniawancs', 'henti', 'heran', 'herbal', 'heritage', 'hermanderu', 'hero', 'hersu', 'hersubenoarief', 'heru', 'herubudi', 'herubudihartono', 'hetero', 'hewan', 'hgemoni', 'hhh', 'hhhhmmmmmmmmm', 'hhhmm', 'hias', 'hibah', 'hibur', 'hidayah', 'hidung', 'hidup', 'hihi', 'hijab', 'hikmah', 'hilang', 'hilir', 'himbau', 'himbauan', 'himpun', 'hina', 'hinata', 'hindar', 'hirau', 'his', 'hit', 'hitam', 'hitung', 'hmmm', 'hoaks', 'hobi', 'hoe', 'hoki', 'holang', 'holland', 'holmes', 'hongo', 'hope', 'horizontal', 'hormat', 'hot', 'hotel', 'hotman', 'hotmanparis', 'hotnews', 'hotroom', 'hotroommetrotv', 'hp', 'hrt', 'htifpidukunganies', 'huahuangma', 'hubatarat', 'hubung', 'hui', 'hujan', 'hujasikia', 'hujat', 'huko', 'hukum', 'hukumanmati', 'hukumindonesia', 'hukummati', 'hukumpidana', 'hulu', 'humanis', 'humanrights', 'humas', 'humaskorpsbrimob', 'humaspolresdonggala', 'humaspolresnganjuk', 'humaspolrespurbalingga', 'humaspolrestaserangkota', 'humaspolri', 'humbanghasundutan', 'humor', 'humoris', 'humorista', 'hun', 'huni', 'huruf', 'hutabarat', 'hutang', 'hyperline', 'hyundai', 'hyyat', 'ian', 'ib', 'ibadah', 'iblis', 'ibu', 'ibukota', 'ibumario', 'ibunda', 'icad', 'icu', 'id', 'idam', 'idcorner', 'ide', 'ideal', 'idealisme', 'identifikasi', 'identik', 'identitas', 'idex', 'idha', 'idihh', 'idiot', 'ifkgbg', 'igi', 'igo', 'ih', 'ihkpn', 'iii', 'ika', 'ikan', 'ikat', 'ikatancinta', 'ikatancintaep', 'ikhlas', 'ikhlasin', 'ikhtiar', 'iklan', 'ikn', 'iknnusantara', 'ikut', 'ikutpakde', 'ila', 'ilegal', 'illustrationart', 'illustrator', 'ilmu', 'ilyas', 'ima', 'imam', 'imamsudrajat', 'iman', 'imani', 'imbang', 'imbas', 'imbau', 'imbuh', 'imi', 'imin', 'impact', 'impor', 'imran', 'in', 'incar', 'indah', 'indeks', 'index', 'india', 'indianarmy', 'indiawajoviral', 'indigo', 'indikasi', 'individu', 'indonesia', 'indonesiabangkit', 'indonesiaemas', 'indonesiamaju', 'indonesiamemanggil', 'indonesiamenang', 'indonesiasemainmaju', 'indonesiasemakinbaik', 'indonesiasemakinmaju', 'indopos', 'indostrategi', 'indotvlive', 'indozone', 'indra', 'indrabekti', 'indragiri', 'indrajaya', 'industri', 'inews', 'inewssiang', 'inewstalkshow', 'inf', 'infanteri', 'inflasi', 'info', 'infoedukatif', 'infogacor', 'infojatim', 'informasi', 'infoslot', 'infozone', 'infrastruktur', 'inga', 'ingat', 'inggris', 'ingin', 'ingkar', 'ingus', 'inimah', 'inisial', 'inisiala', 'inisiasi', 'inisiatif', 'inismyname', 'inivatif', 'injak', 'injury', 'inklusif', 'inkrah', 'innalillahi', 'inovasi', 'input', 'insan', 'insecure', 'insomnia', 'inspektorat', 'inspirasi', 'instagram', 'instansi', 'instantt', 'institusi', 'institute', 'instrospeksi', 'instruksi', 'insya', 'insyaallah', 'intan', 'integritas', 'intel', 'intelligent', 'intens', 'intensif', 'internasional', 'international', 'internet', 'interogasi', 'interpol', 'intervensi', 'inti', 'intimidasi', 'intip', 'intitusi', 'intoleran', 'investor', 'iphone', 'ipnu', 'ipol', 'iptu', 'ipw', 'iran', 'irene', 'irfan', 'irfanwdiyanto', 'irfanwidyanto', 'iri', 'iring', 'irjen', 'ironis', 'irwan', 'irwasum', 'is', 'isi', 'isilop', 'islam', 'ismailhasani', 'isra', 'israel', 'ist', 'istana', 'isteriku', 'istilah', 'istimewa', 'istirahat', 'istri', 'istrikedua', 'istrirafaelalun', 'isu', 'it', 'itachi', 'itu', 'ivan', 'iwan', 'iya', 'izin', 'jabat', 'jabtan', 'jackpot', 'jadi', 'jadika', 'jaeyong', 'jaga', 'jago', 'jahanam', 'jahat', 'jajah', 'jajan', 'jajar', 'jakarta', 'jakartabarat', 'jakartaselatan', 'jakartatenggelam', 'jakbar', 'jaki', 'jakita', 'jaksa', 'jaksapenuntutumum', 'jakse', 'jalan', 'jalin', 'jalur', 'jam', 'jaman', 'jambi', 'jambiherukustanto', 'jamin', 'jandral', 'janganilang', 'janganla', 'janggal', 'jangkar', 'jangkau', 'janji', 'janjijanjipalsu', 'janjipalsukampanyeanies', 'januari', 'jarang', 'jararta', 'jargon', 'jaring', 'jas', 'jasa', 'jasad', 'jasadesaindigital', 'jasadesign', 'jasailustrasi', 'jastip', 'jati', 'jatimnow', 'jatipadang', 'jatuh', 'jauh', 'java', 'jawa', 'jawab', 'jawabancom', 'jaya', 'jc', 'je', 'jebak', 'jeep', 'jeff', 'jejak', 'jelang', 'jelas', 'jelata', 'jelek', 'jembatan', 'jembut', 'jemput', 'jenderal', 'jenerali', 'jeng', 'jengkel', 'jenguk', 'jenis', 'jenjang', 'jepang', 'jepara', 'jera', 'jerat', 'jerman', 'jernihmelihatdunia', 'jerome', 'jeromepolin', 'jeruji', 'jeruk', 'jeshi', 'jet', 'jewer', 'jilbab', 'jilid', 'jimbaran', 'jiplak', 'jiraya', 'jis', 'jisoo', 'jitu', 'jiwa', 'jiwaaa', 'job', 'jobnya', 'jobseekers', 'jodoh', 'john', 'johngray', 'join', 'joker', 'joki', 'joko', 'jokowi', 'jokowidodo', 'jokowipangti', 'jokowo', 'jonathan', 'jonathanlatumahina', 'jorok', 'joss', 'josuahutabarat', 'jp', 'jsksa', 'jtg', 'jual', 'jualanonline', 'juang', 'juara', 'juda', 'judes', 'judionline', 'judul', 'jufri', 'juge', 'jugee', 'jujur', 'jujut', 'julang', 'juluk', 'jumat', 'jumatfebruari', 'jumawa', 'jumbo', 'junius', 'junjung', 'jurai', 'juru', 'jurus', 'justice', 'justicecllaborator', 'justicecollaborator', 'justiceforall', 'juta', 'kabar', 'kabarbaik', 'kabardpr', 'kabarganjar', 'kabarharian', 'kabarhariini', 'kabarterkini', 'kabinet', 'kabupaten', 'kabur', 'kaca', 'kacamatabangsa', 'kacang', 'kacau', 'kadang', 'kadar', 'kaden', 'kader', 'kadiv', 'kadrone', 'kadrun', 'kagama', 'kaget', 'kagub', 'kagum', 'kah', 'kain', 'kait', 'kak', 'kakak', 'kakakperempuan', 'kakek', 'kaki', 'kalah', 'kalang', 'kalapas', 'kali', 'kaliannnn', 'kalideres', 'kalimalang', 'kalimantan', 'kalimantantengah', 'kalimasada', 'kalimat', 'kaluman', 'kama', 'kamar', 'kamarunddin', 'kamera', 'kamharlakumani', 'kamidi', 'kamil', 'kamis', 'kampanye', 'kampung', 'kampus', 'kamrussamad', 'kamu', 'kan', 'kanan', 'kandang', 'kandisasi', 'kandung', 'kang', 'kanker', 'kantor', 'kanwilsulbar', 'kaos', 'kapabilitas', 'kapal', 'kapar', 'kapasitas', 'kapok', 'kapoldasumsel', 'kapolremetrojaksel', 'kapolresmetrojaksel', 'kapolrestabes', 'kapolrestacirebon', 'kapolsekjaksel', 'kapuspenkum', 'kaputttt', 'karakter', 'karang', 'karangsari', 'karen', 'karier', 'karir', 'karirnya', 'karius', 'karma', 'karni', 'karno', 'karom', 'karopaminal', 'kartu', 'karuan', 'karunia', 'karya', 'karyawan', 'kasar', 'kasih', 'kasihan', 'kasino', 'kasu', 'kasus', 'kasusambo', 'kasusbrigadirj', 'kasusferdysambo', 'kasusformulae', 'kasusfs', 'kasusmariodandysatrio', 'kasuspembunuhan', 'kasuspembunuhanberencana', 'kasuspenganiayaan', 'kasussambo', 'kasusviral', 'kata', 'kataanies', 'katibampya', 'katolik', 'kau', 'kaum', 'kawal', 'kawalctps', 'kawaldavid', 'kawan', 'kawasan', 'kaya', 'kayagini', 'kayak', 'kayu', 'keadilanhukum', 'kebal', 'kebangkitanindonesiaraya', 'kebathinan', 'kebiri', 'kebucinan', 'keburu', 'kebut', 'kecam', 'kecebong', 'kecewa', 'kecil', 'kecoh', 'kecuali', 'kecut', 'kedy', 'keetua', 'kejaksaanagung', 'kejam', 'kejang', 'kejangalan', 'kejap', 'kejar', 'kejeglong', 'keji', 'keju', 'kejut', 'kekal', 'kekasihmario', 'kekasihmariodandy', 'kelah', 'kelak', 'kelakar', 'kelas', 'kelian', 'keliling', 'keliru', 'kelola', 'kelompok', 'kelua', 'keluar', 'keluarga', 'keluh', 'keman', 'kemarin', 'kembali', 'kembang', 'kemdikbud', 'kemeja', 'kemenhan', 'kemenkeuri', 'kemenkue', 'kementerianatrbpn', 'kementeriankeuangan', 'kemeriahanganjarciamis', 'kemhan', 'kemudi', 'kena', 'kenal', 'kenang', 'kenapadaviddianiaya', 'kencang', 'kendal', 'kendala', 'kendali', 'kendang', 'kendara', 'kendari', 'kendor', 'keneh', 'kenesaran', 'kentaki', 'kentangd', 'kenyang', 'kenyataanya', 'kepala', 'kepedulianya', 'kepoliaian', 'kepolisianrepublikindonesia', 'keponakan', 'kepung', 'kerabat', 'kerangka', 'kerap', 'keras', 'kerbau', 'keren', 'kereta', 'keri', 'kering', 'keringat', 'kerja', 'kerjanyata', 'kerjauntukindonesia', 'kerok', 'keroyok', 'keroyokan', 'kertas', 'kes', 'kesadisanya', 'kesal', 'kesan', 'kesana', 'kesanaaaaaaaa', 'kesima', 'kesini', 'kesitu', 'ketar', 'ketat', 'ketemu', 'keteter', 'ketidakpercayaan', 'ketimbang', 'ketua', 'ketuadpphanura', 'ketuakpai', 'ketumgerindra', 'ketut', 'ketutsumedana', 'kevin', 'keyongan', 'kh', 'khas', 'khasus', 'khawatir', 'khayal', 'khekawatiran', 'khianat', 'khn', 'khofifah', 'khoiruddin', 'khoirudin', 'khusus', 'ki', 'kiai', 'kian', 'kiat', 'kib', 'kibaranparapemenang', 'kibul', 'kicep', 'kickandy', 'kickandydoublecheck', 'kikis', 'kikosi', 'kila', 'kilasepekan', 'kilat', 'kilau', 'kilimanjaro', 'kilometer', 'kinaitwa', 'kini', 'kira', 'kirakira', 'kiri', 'kirim', 'kisah', 'kisar', 'kitab', 'kitagerindra', 'kitaorg', 'kjem', 'kkb', 'kkep', 'kkn', 'klaim', 'klarifikai', 'klarifikasi', 'klasemen', 'klasik', 'klien', 'klik', 'kloning', 'klop', 'klub', 'klubmogedjp', 'klungkung', 'kmtbms', 'koalisi', 'koalisiperubahan', 'kober', 'kocak', 'kode', 'kodeetik', 'koin', 'kokoh', 'kolaborasi', 'kolam', 'koleksi', 'kolom', 'kom', 'koma', 'komandan', 'komando', 'kombe', 'kombes', 'kombespol', 'komedi', 'komen', 'komentar', 'komisaris', 'komisen', 'komisi', 'komisioner', 'komisiperlindungananakindonesia', 'komit', 'komitmen', 'komjen', 'komoditi', 'kompak', 'kompas', 'kompascom', 'kompetensi', 'kompleks', 'komplit', 'kompol', 'kompolnas', 'kompor', 'komunis', 'komunitas', 'kondisi', 'kondisidavid', 'kondusifitas', 'koneksi', 'konferensi', 'konfirmasi', 'konflik', 'kongah', 'konglomerat', 'konoha', 'konologi', 'konpers', 'konpres', 'konseling', 'konsep', 'konsisten', 'konstitusi', 'konsumen', 'konsumsi', 'konsumtif', 'kontak', 'konteks', 'konten', 'kontestasi', 'kontol', 'kontra', 'kontribusi', 'kontributor', 'kontrolkeseimbangan', 'konvensional', 'konvoi', 'konyol', 'koordinasi', 'koordinator', 'kopassus', 'kopi', 'koran', 'koransumsel', 'korantalk', 'korban', 'korbanpenganiayaan', 'korbanpengeroyokan', 'korbrimob', 'korea', 'koreksi', 'korpolairud', 'korps', 'korup', 'korupsi', 'korwil', 'kos', 'kosong', 'kosongg', 'kostrad', 'kota', 'kotajakartatimur', 'kotak', 'kotor', 'kowarteg', 'kp', 'kpercayaan', 'kpj', 'kpsd', 'kpss', 'kreatif', 'kredibilitas', 'kredit', 'krenyes', 'krewedan', 'kriminal', 'kriminalitas', 'kriminolog', 'krisperawat', 'kristen', 'kriteria', 'kritik', 'kronologi', 'kronologikejadian', 'kroyokan', 'ksatria', 'ku', 'kua', 'kuak', 'kualitas', 'kuasa', 'kuat', 'kuatbaca', 'kuatbacacom', 'kuatbacom', 'kuatknow', 'kuatmaruf', 'kuba', 'kubu', 'kubur', 'kucur', 'kuda', 'kudeta', 'kue', 'kuhp', 'kuhpbaru', 'kuhpkemajuanindonesia', 'kuku', 'kukuh', 'kuliah', 'kuliahluarnegeri', 'kuliner', 'kulit', 'kulkas', 'kumat', 'kumhamsulbar', 'kumpul', 'kumulatif', 'kunden', 'kuning', 'kuningan', 'kunjung', 'kuntadhi', 'kunti', 'kunyit', 'kupon', 'kur', 'kurang', 'kurirshopee', 'kurniawan', 'kursi', 'kurung', 'kuruptor', 'kusmaedi', 'kustaafu', 'kusuma', 'kuta', 'kutesa', 'kutik', 'kutip', 'kutokomeza', 'kutu', 'kutumia', 'kwa', 'kyaa', 'kyungsoo', 'laba', 'labil', 'labrak', 'labuh', 'lacak', 'lada', 'lagu', 'lahan', 'lahir', 'lain', 'laki', 'lakini', 'laksa', 'laksana', 'laksono', 'laku', 'lamar', 'lamban', 'lambat', 'lamonganmegilan', 'lamper', 'lampostco', 'lampu', 'lampune', 'lampung', 'lampungdukunganies', 'lampungpost', 'lampungpostid', 'lampungselatan', 'lancar', 'landa', 'landak', 'lang', 'langgar', 'langit', 'langka', 'langkah', 'langsung', 'langung', 'lanjur', 'lanjut', 'lantai', 'lantar', 'lantas', 'lantik', 'lap', 'lapak', 'lapakcot', 'lapakganjar', 'lapang', 'lapar', 'lapassalemba', 'lapor', 'laporgub', 'laporpajak', 'larang', 'lari', 'larut', 'laskar', 'last', 'latar', 'latih', 'latumahina', 'latumahinadi', 'launching', 'law', 'lawak', 'lawaklucu', 'lawan', 'lawang', 'lawankorupsi', 'lawas', 'lawyer', 'layak', 'layan', 'layar', 'ld', 'lebar', 'lebih', 'lebihpaham', 'leceh', 'ledak', 'leejaewookfirstinjkt', 'legal', 'legalaid', 'legalitas', 'legislatif', 'lek', 'lekat', 'leleh', 'lemah', 'lemas', 'lembaga', 'lembagakemasyarakatan', 'lembayang', 'lemdiklat', 'lempar', 'lempit', 'lena', 'lengah', 'lengkap', 'lengkapcepatberitanya', 'lenyap', 'lepas', 'les', 'lestari', 'leste', 'letak', 'letda', 'letnan', 'level', 'lewat', 'lgii', 'li', 'liang', 'liar', 'libat', 'licik', 'licin', 'lif', 'life', 'lihat', 'like', 'likes', 'lilin', 'limit', 'limpah', 'lindung', 'lingakaran', 'lingkar', 'lingkung', 'lingkungn', 'lini', 'linknya', 'lintas', 'lintasinewsmnctv', 'linud', 'lip', 'liput', 'liputannsonora', 'liputansonora', 'lirik', 'listrik', 'listyarti', 'listyo', 'listyosigit', 'listyosigitprabowo', 'litbang', 'literasi', 'live', 'livebola', 'liveslot', 'liwafa', 'lmgsung', 'lo', 'logika', 'logo', 'lohhhh', 'lokal', 'lokasana', 'lokasi', 'lokercirebon', 'lokerjakarta', 'lokertangerang', 'lolos', 'lomba', 'lombok', 'lombokproperti', 'loncat', 'londoireng', 'longo', 'longsor', 'lonjak', 'lontong', 'lope', 'love', 'loveisland', 'lowong', 'lpp', 'lpsk', 'luah', 'luap', 'luas', 'luber', 'lucu', 'ludah', 'lugo', 'luka', 'lukas', 'lukis', 'lukmanul', 'lumayan', 'lumiu', 'lumpia', 'luncur', 'lupa', 'lurah', 'lurus', 'lusa', 'lyricnya', 'maaf', 'maag', 'mabavu', 'mabespolri', 'mabuk', 'macet', 'macul', 'madha', 'madrid', 'madura', 'mafia', 'mafiapajak', 'maha', 'mahal', 'mahalini', 'mahasiswa', 'mahend', 'mahfud', 'mahfudmd', 'mahfuds', 'mahfudz', 'mahmud', 'mail', 'maimoen', 'main', 'mainstream', 'mais', 'majalah', 'majalahgatra', 'majalahtempo', 'majalengka', 'majambazi', 'majelis', 'majelishakim', 'majikan', 'maju', 'majudanmodern', 'majuin', 'mak', 'makam', 'makan', 'makar', 'makassar', 'makbar', 'maker', 'makeup', 'makganjar', 'makganjarberbagikebaikan', 'makganjarsumsel', 'makganjarsumut', 'makganjaruntukpakganjar', 'makhluk', 'maki', 'makiiin', 'maklumat', 'makmur', 'makna', 'maksimal', 'maksud', 'mal', 'malaikat', 'malam', 'malamjumatcrot', 'malamminggu', 'malang', 'malarikan', 'malas', 'malaysia', 'maleng', 'maling', 'mall', 'malu', 'mam', 'mamak', 'mamamuda', 'mampir', 'mampu', 'man', 'mana', 'manaaaa', 'manado', 'manajemen', 'manajer', 'manchesterunited', 'mandi', 'mandir', 'mandiri', 'manfaat', 'mang', 'mangat', 'mangatta', 'mangkrak', 'manies', 'manipulasi', 'manis', 'manja', 'manopo', 'manpowernya', 'mansour', 'mansourbinzayed', 'mantan', 'mantankadivpropam', 'mantap', 'mantion', 'manusia', 'manusiawi', 'mapan', 'mapolres', 'marah', 'marak', 'maret', 'mari', 'mariaspaces', 'mario', 'marioansor', 'mariodandi', 'mariodandy', 'mariodandyanakdajjalhasiluangharam', 'mariodandydavid', 'mariodandysatrio', 'mariodandysatriyo', 'mariosadis', 'markas', 'marketing', 'marketplace', 'markotop', 'marm', 'marmesa', 'mars', 'martabak', 'martabat', 'martinelli', 'marttayuzyuze', 'maruf', 'marut', 'maryati', 'maryoto', 'mas', 'masak', 'masalah', 'masbowo', 'masdar', 'masdarwis', 'masganjar', 'masihkalahjauh', 'masinh', 'masjid', 'maskud', 'mass', 'massa', 'massal', 'masuk', 'masyaallah', 'masyakarat', 'masyarakat', 'masyrakt', 'mat', 'mata', 'mataram', 'matcha', 'materai', 'materi', 'mati', 'matkul', 'matkulnya', 'mau', 'mauaji', 'maxwin', 'maxxwinya', 'mayapada', 'mayat', 'mayatwanita', 'maydin', 'mayjend', 'mayoritas', 'mbah', 'mbak', 'mbaya', 'mbok', 'mbung', 'mbz', 'mc', 'md', 'mds', 'mdude', 'me', 'medan', 'medanhits', 'medanterkini', 'medcom', 'media', 'mediaasing', 'mediabanten', 'mediadigitalcpp', 'mediainformasi', 'medical', 'medis', 'mega', 'megah', 'megawati', 'mei', 'meikarta', 'meike', 'meja', 'mel', 'melawankemunafikan', 'melawanpembodohan', 'melayaniprofesionalterpercaya', 'meleng', 'mem', 'memang', 'member', 'memcomooh', 'meme', 'memeindo', 'memeindonesia', 'memgayaomi', 'memonitoring', 'memorandum', 'memori', 'memoriam', 'mempelai', 'memutarbalikkan', 'men', 'menandatangani', 'menang', 'menangbersamarakyat', 'mencret', 'mendiang', 'mending', 'meng', 'mengapdi', 'mengatasnamakan', 'mengepoi', 'menhan', 'menhanprabowo', 'menhanri', 'menindaklanjuti', 'menjaroke', 'menkeu', 'menkopolhukam', 'mental', 'mentang', 'mentari', 'mentereng', 'menteri', 'menteriagama', 'menterikeuangan', 'menterikeuanganri', 'mention', 'menujupelayanankelasdunia', 'menujuperubahan', 'merah', 'merahputih', 'merahputihcom', 'merauke', 'mercedes', 'merdeka', 'merdekadotcomselaras', 'merek', 'mereka', 'merkuri', 'merryriana', 'mertua', 'mes', 'message', 'mesti', 'mesuji', 'mesum', 'meteng', 'meter', 'meterai', 'metro', 'metropolitan', 'metrotvnews', 'meungkapkan', 'mewah', 'mhd', 'mi', 'michat', 'micro', 'mie', 'miean', 'miegacoan', 'mikro', 'mil', 'milenial', 'milenialbersatu', 'milenialdukungganjar', 'miliader', 'miliar', 'miliarslot', 'milik', 'militan', 'militansi', 'militer', 'milu', 'mimik', 'mimpi', 'min', 'minahasa', 'minat', 'minggu', 'mini', 'minimal', 'minoritas', 'minta', 'mintak', 'mintamaaf', 'minum', 'minus', 'minut', 'minyak', 'minyakita', 'minzalik', 'miriis', 'miring', 'miris', 'mirissssss', 'mirzani', 'misi', 'miskin', 'misteri', 'misterius', 'misuh', 'mitigasi', 'mitra', 'mitsubishi', 'mitualisme', 'mixparlay', 'mixue', 'mke', 'mkoa', 'mkssr', 'mkurugenzi', 'mlksnkn', 'mms', 'mnc', 'mncintai', 'mnctv', 'mnctvnews', 'mncupdate', 'mnonton', 'mnympkn', 'mobil', 'mobile', 'modal', 'model', 'modern', 'moga', 'mogok', 'mohamat', 'mohon', 'momen', 'momenlucu', 'momentum', 'monas', 'moncer', 'mondar', 'mondok', 'moneylaundering', 'monggo', 'monica', 'monitor', 'monyet', 'moral', 'moralitas', 'moreshareforum', 'morgan', 'morgansimanjuntak', 'morningg', 'morninggg', 'motif', 'motivasi', 'motor', 'motorgede', 'mount', 'mowning', 'mpp', 'mqodari', 'mrpkan', 'mrt', 'ms', 'msjd', 'mu', 'muak', 'mualaf', 'muas', 'muat', 'mubah', 'muda', 'mudah', 'mudanu', 'mudeee', 'mufc', 'muhammad', 'muhammadiyah', 'muhammadramlirahim', 'mujani', 'muka', 'mukasyafah', 'mukena', 'mukhlishpodilito', 'mukidi', 'mukim', 'muktamar', 'mukul', 'mulia', 'mullet', 'mulu', 'mulut', 'mulyadi', 'mulyani', 'mumet', 'mumpung', 'mun', 'munafik', 'muncul', 'mundur', 'murad', 'murah', 'murka', 'murni', 'museum', 'musibah', 'musik', 'muslim', 'musnah', 'musni', 'musniumar', 'muspiroh', 'mustofanahrawardaya', 'mustolih', 'musuh', 'musyawarah', 'mutaqin', 'mutasi', 'mutiara', 'mutih', 'mutlak', 'mutu', 'muzani', 'my', 'myf', 'myschoolpresidentfinalep', 'mzee', 'na', 'naas', 'nabi', 'nada', 'nadia', 'nafas', 'nafsi', 'nahdlatul', 'nahdliyin', 'naik', 'najamuddinsewang', 'najis', 'nak', 'nakal', 'nakula', 'nalar', 'nali', 'nama', 'nanggepinnya', 'nangkap', 'nanyansiapa', 'napas', 'napi', 'narapidana', 'narasi', 'narasisenja', 'narasumber', 'narazi', 'narkoboy', 'narkotika', 'narnia', 'naruto', 'nasdrun', 'nasi', 'nasib', 'nasibhakimwahyu', 'nasional', 'nasionalis', 'natar', 'natsir', 'nauzubillah', 'nay', 'nazi', 'nbooster', 'ncovid', 'ndasku', 'nder', 'ndio', 'negakin', 'negara', 'negatif', 'negeri', 'negotiable', 'nelson', 'neng', 'nenk', 'nenny', 'neraka', 'ness', 'netral', 'network', 'new', 'newsflash', 'newsnight', 'newsone', 'newsupdate', 'newtizen', 'next', 'ng', 'ngab', 'ngablu', 'ngacem', 'ngadegungkeun', 'ngambeg', 'ngamenslot', 'ngamenslotpayd', 'nganjuk', 'ngechat', 'ngedidik', 'ngegass', 'ngegubris', 'ngehianatin', 'ngekos', 'ngelunjak', 'ngembal', 'nger', 'ngeri', 'ngeship', 'nggatau', 'nggemesin', 'nggilane', 'ngidul', 'nginceng', 'nglakuin', 'nglinggo', 'ngobrolhukum', 'ngomong', 'ngomporn', 'ngrugiin', 'ngunut', 'nian', 'niat', 'nicorobin', 'nies', 'nigeriadecides', 'nigeriaelections', 'nih', 'nihil', 'nikah', 'nikam', 'nikita', 'nikitaprotes', 'nikmat', 'nila', 'nilai', 'nimbrung', 'ning', 'ninja', 'nino', 'nir', 'nista', 'nitizen', 'nodrama', 'nofriansyah', 'nofriansyahyosuahutabarat', 'noles', 'nolimtcity', 'nomor', 'non', 'nonaktif', 'nonfisik', 'nopol', 'normalisasi', 'nota', 'notice', 'notodiputro', 'novel', 'novo', 'npwp', 'ntkadangkadang', 'nu', 'nun', 'nuraeni', 'nuraini', 'nurani', 'nuriyah', 'nuron', 'nurpatria', 'nusakambangan', 'nusantara', 'nya', 'nyablak', 'nyabut', 'nyaho', 'nyai', 'nyala', 'nyali', 'nyalon', 'nyaman', 'nyantri', 'nyanyi', 'nyata', 'nyawa', 'nyekokin', 'nyeleneh', 'nyelot', 'nyinyir', 'nyungsep', 'obah', 'obat', 'obor', 'obral', 'obstrucionofjustice', 'obstruction', 'obstructionofjuctice', 'obstructionofjustice', 'obtructionofjustice', 'oby', 'obyektivitas', 'oceh', 'of', 'off', 'office', 'officer', 'official', 'ogah', 'oh', 'oi', 'oke', 'okin', 'oknum', 'oktober', 'olah', 'olahraga', 'oleh', 'olek', 'oligarki', 'olok', 'olshop', 'olympus', 'om', 'omah', 'ombak', 'ombramdanjulpha', 'omong', 'on', 'onar', 'one', 'ongkos', 'online', 'onta', 'ooj', 'open', 'openbo', 'opencommission', 'opik', 'opini', 'opinihukum', 'oportunitis', 'opsimediatv', 'opsimemediatv', 'opsiminfo', 'opslot', 'optimal', 'optimis', 'orang', 'orasi', 'order', 'organisasi', 'organisir', 'ortopedi', 'otak', 'otomatis', 'otomotif', 'out', 'over', 'overdosis', 'overthinking', 'oviedo', 'ovt', 'ozora', 'paaaak', 'pac', 'pacar', 'pacaranne', 'pacarmario', 'pacarmariodandy', 'pacarmariodandysatrio', 'packing', 'padam', 'padang', 'padat', 'padepokan', 'padu', 'pagi', 'pagiii', 'paguyuban', 'paham', 'pain', 'paja', 'pajak', 'pajakkalianuntukkami', 'pajakkitauntukbelimoge', 'pajakkitauntukbelirubicon', 'pajakkitauntukkita', 'pajakkitauntukmario', 'pajakkitauntukpejabat', 'pajero', 'pajerotabraklari', 'pakai', 'pakar', 'pakde', 'paket', 'pakganjar', 'paksa', 'palagan', 'palangkaraya', 'palembang', 'paloh', 'palsu', 'pama', 'paman', 'pamer', 'paminal', 'pamong', 'panas', 'pancasila', 'pancasilaaaaaa', 'pancing', 'pancit', 'pancung', 'pandai', 'pandang', 'pandanganjogja', 'pandansari', 'pandemi', 'pandora', 'pandu', 'pangan', 'pangdam', 'panggil', 'panggung', 'pangkal', 'pangkat', 'panglima', 'panik', 'panitia', 'panpas', 'pantai', 'pantang', 'pantau', 'pantaucom', 'panti', 'pantun', 'panutan', 'pap', 'papa', 'papan', 'papar', 'papera', 'papua', 'paradikon', 'parah', 'parahhh', 'parameter', 'paris', 'pariwisata', 'parkseojoon', 'parlay', 'parlemen', 'parlindungan', 'parodi', 'part', 'partai', 'partaiamanatnasional', 'partaidemokrat', 'partaigaruda', 'partaigerakanindonesiaraya', 'partaigerindra', 'partaikeadilansejahtera', 'partaikeadilansejahterapksprovinsijambi', 'partainasdem', 'partaipolitik', 'partaiummat', 'partogi', 'pas', 'pasal', 'pasang', 'pasanganideal', 'pasar', 'pasarnatar', 'pasca', 'pascacovid', 'pasren', 'paste', 'pasti', 'pasu', 'pasuk', 'pasung', 'patriot', 'patung', 'patut', 'paulfury', 'payah', 'payau', 'payung', 'pbb', 'pbbmenang', 'pbhinasional', 'pbi', 'pc', 'pdemokrat', 'pduli', 'pe', 'pecah', 'pecat', 'pecatin', 'pedagangpasar', 'pedas', 'pedih', 'pedofilia', 'peduli', 'pedulilingkungan', 'pegang', 'pegawai', 'pegawainagitaslavina', 'pegawaipajak', 'pejabatditjen', 'pejabateselon', 'pejabatpajak', 'pejabatpenghianat', 'pek', 'peka', 'pekan', 'pekanbaru', 'pekarang', 'pekerjaanya', 'pelaksnan', 'pelat', 'pelayo', 'pelecehanseksualyangmaubertemudenganpelakunyapembunuhan', 'pelihara', 'peluang', 'peluk', 'pemberitahuan', 'pembunuhanberencana', 'pembunuhanberencanabrigadiryosua', 'pemelihan', 'pemilihanpresiden', 'pemilihanumum', 'pemilikonlineshopkeroyokpelanggan', 'pemiluceria', 'pemiluserentak', 'pemuda', 'penandatanganan', 'penasaran', 'pencucianuang', 'pendar', 'pendayagunaan', 'pendek', 'pendekar', 'pendopo', 'penegakhukum', 'penerusjokowi', 'pengadilannegeri', 'penganiayaandavid', 'penganiyaan', 'penganyom', 'pengaruh', 'penjara', 'penjarakanagnes', 'penopuan', 'pensiun', 'penting', 'penuh', 'penyon', 'people', 'pepsodent', 'per', 'peran', 'perang', 'perangkat', 'peras', 'perbedaaan', 'perbedaanpolitik', 'percaya', 'percayadiri', 'percobaanpembunuhan', 'percsya', 'perek', 'perempuan', 'pergi', 'perhati', 'perihal', 'periksa', 'perilaku', 'peringkat', 'perintah', 'perintanganpenyidikan', 'periode', 'peristiwa', 'perkara', 'perkasa', 'perkosa', 'perlahan', 'perlutukang', 'peroangan', 'perpajakn', 'pers', 'persatuannasional', 'persen', 'persepakbolaan', 'persepsi', 'persero', 'persib', 'persibday', 'personal', 'personel', 'personil', 'perspektif', 'pertanggungjawaban', 'pertiwi', 'perubahandanperbaikan', 'perudang', 'perumahanlombok', 'perut', 'perwira', 'pesan', 'pesanggrahan', 'pesantren', 'pesimis', 'pesta', 'pestarakyat', 'petak', 'petaka', 'peterongan', 'petinggi', 'petisi', 'peyeum', 'phil', 'piatu', 'picu', 'pidana', 'pidato', 'piers', 'pihak', 'piket', 'pikir', 'pikiranrakyat', 'pilih', 'pilkadadki', 'pilot', 'pilu', 'pimda', 'pimpij', 'pimpin', 'pindad', 'pindah', 'pindahin', 'pindana', 'pinjam', 'pinky', 'pintar', 'pinterpolitik', 'pintu', 'pion', 'piring', 'pisah', 'pisang', 'pisau', 'piutang', 'pixel', 'pj', 'pjnews', 'pjr', 'pkd', 'pksjatim', 'pksmenang', 'pksmenanganiespresiden', 'pkspelayanrakyat', 'pkspohuwato', 'pkssumedang', 'pksterusmelayani', 'pl', 'plagiat', 'plat', 'platform', 'play', 'playlist', 'pleburan', 'plecit', 'pledoi', 'plglipp', 'plintat', 'plintut', 'plisss', 'plong', 'plonga', 'plongo', 'plosa', 'plt', 'plus', 'pmbunuh', 'pmj', 'pncipta', 'pnganiayaan', 'pnjaksel', 'poantui', 'podcast', 'podcastclosethedoor', 'podcastngobrolhukum', 'pohon', 'pohuwato', 'point', 'pojok', 'pok', 'pokok', 'pol', 'pola', 'polairud', 'polarisasi', 'poldalampung', 'poldametrojaya', 'poldasumsel', 'poles', 'polewali', 'police', 'polisi', 'polisiindonesia', 'polisijatim', 'polisirepublikindonesia', 'polisisahabatanak', 'polisisahabatmasyarakat', 'polisiviral', 'politician', 'politics', 'politik', 'politika', 'politikidentitas', 'politikidentitassah', 'politikidentitastunaprestasi', 'politikindonesia', 'politikmalaysia', 'politikpemerintahan', 'politikus', 'politisisantri', 'polos', 'polr', 'polresdonggala', 'polresjakartaselatan', 'polresjaksel', 'polrespurbalingga', 'polresta', 'polrestabanan', 'polrestabes', 'polrestacirebon', 'polrestaserangkota', 'polrihumanis', 'polrijagakamtibmas', 'polripeduli', 'polripresisi', 'polriuntukindonesia', 'polwan', 'pompa', 'pondasi', 'pondok', 'poni', 'pontianak', 'pop', 'popularitascom', 'populer', 'poreper', 'porsi', 'portalyogya', 'pos', 'pose', 'posisi', 'positif', 'poskota', 'post', 'posyandu', 'potensi', 'potong', 'potret', 'potter', 'power', 'pp', 'ppatk', 'ppgpanshor', 'pph', 'ppn', 'ppp', 'pppa', 'ppsi', 'ppt', 'prabowo', 'prabowokita', 'prabowomuda', 'prabowopeduli', 'prabowopemersatu', 'pragmatic', 'praja', 'prajurit', 'pramono', 'prancis', 'pranowo', 'prasasya', 'prasetiya', 'prasetiyamulya', 'prasetya', 'prasetyohadi', 'prasmul', 'prawiro', 'prayfordavid', 'prayforturkey', 'prayudi', 'preciousyedamday', 'prediksi', 'preksa', 'preloved', 'preman', 'prematur', 'premium', 'premiumin', 'presiden', 'presidenjokowi', 'presidenri', 'presidentialelection', 'presisi', 'prestasi', 'prestasiganjar', 'pret', 'pretasi', 'pria', 'pribadi', 'pribumi', 'priksa', 'prima', 'prime', 'primetimenewsmetrotv', 'prioritas', 'pristiwa', 'prmn', 'pro', 'problematik', 'produk', 'produktif', 'prof', 'profesional', 'profesionalitas', 'profil', 'profit', 'program', 'promo', 'promosi', 'propam', 'propertilombok', 'proses', 'protes', 'protest', 'provinsi', 'provokasi', 'provokatif', 'provokator', 'proyek', 'prselingkuhn', 'prsidangan', 'psikolog', 'psikologi', 'pssi', 'pt', 'ptperorangan', 'puan', 'puanmaharani', 'puanyusril', 'puas', 'pubg', 'publik', 'published', 'pudar', 'pudihang', 'puisi', 'puji', 'pujipks', 'pukau', 'pukul', 'pulang', 'pulau', 'pulih', 'pulisi', 'pulsa', 'puluh', 'puncak', 'puncaktertinggi', 'pungkas', 'pungut', 'pura', 'purbalingga', 'purel', 'purna', 'purwakarta', 'pusat', 'push', 'pusiiiing', 'pusing', 'pusri', 'put', 'putar', 'putih', 'putra', 'putranto', 'putri', 'putricandrawathi', 'putricandrawati', 'putricandrawthi', 'putus', 'putussekolah', 'puyeeeng', 'pw', 'qodari', 'qoute', 'qs', 'quotes', 'qwwgggg', 'ra', 'rabu', 'rachaman', 'rachman', 'racun', 'radikal', 'radin', 'rafael', 'rafaelalun', 'rafaelaluntriamnbodo', 'rafaelaluntrisambodo', 'raffi', 'raga', 'ragam', 'ragu', 'rahasia', 'rahman', 'raih', 'rainbow', 'rais', 'raja', 'rajawali', 'rakernas', 'rakernaspks', 'raknyatnya', 'rakornas', 'rakornaspan', 'rakyat', 'rakyatmemilih', 'ramadan', 'ramah', 'ramai', 'ramal', 'rambo', 'rambut', 'rambutan', 'ramean', 'ramli', 'rampas', 'rampasri', 'rampung', 'ranah', 'rancang', 'rang', 'rangka', 'rangkai', 'rangkap', 'rangkul', 'ranowo', 'ranting', 'rapat', 'rape', 'rapid', 'rapuh', 'raraelalun', 'ras', 'rasa', 'rasyid', 'rat', 'ratus', 'ravaelaluntrisambodo', 'rawan', 'rawat', 'raya', 'rayap', 'rayon', 'rayu', 'rdipandanaransemarang', 'rdiupdate', 'rdtl', 'ready', 'reaksi', 'real', 'rebut', 'receh', 'referensibangsa', 'reformasi', 'reformasipolri', 'refund', 'rehabilitasi', 'rejeki', 'rekam', 'rekamjejak', 'rekan', 'rekayasa', 'rekening', 'rekeninggendut', 'reklamasi', 'rekomendasi', 'rekornasi', 'rekrutmen', 'rela', 'relate', 'relawananies', 'relawanganjar', 'relawanganjarpranowo', 'relawansantun', 'religius', 'remaja', 'remas', 'remisi', 'remuk', 'renang', 'rencana', 'rendah', 'rendam', 'rentalps', 'rentan', 'rep', 'repot', 'representasi', 'republik', 'reputasi', 'reqnews', 'request', 'resap', 'resep', 'reserse', 'resesi', 'reset', 'residen', 'residivis', 'resistensi', 'reskrim', 'resmi', 'resor', 'respectgiselle', 'respek', 'respon', 'respons', 'responsibility', 'responsif', 'resto', 'restoran', 'restorasiindonesia', 'result', 'resultcambodia', 'retno', 'revitalisasi', 'revolusi', 'reza', 'rezaindragiri', 'rezaindragiriamriel', 'rezeki', 'rezim', 'ri', 'ria', 'riah', 'riau', 'riaunews', 'ribu', 'ribut', 'ric', 'richard', 'richardeliezer', 'richardelliezer', 'ricky', 'rickyrizal', 'rida', 'ridwan', 'riil', 'rijder', 'rilis', 'rina', 'rinanose', 'rindu', 'ringan', 'rintang', 'rintih', 'rip', 'risalah', 'risih', 'risiko', 'risk', 'risma', 'riuh', 'riurizkiutomo', 'rival', 'riweh', 'rizal', 'rkgolkar', 'rm', 'rmedia', 'rmhnya', 'rmxbottegaveneta', 'rnewlitics', 'robicon', 'rocky', 'rockygerung', 'rockymind', 'role', 'romantis', 'rombong', 'rombonganya', 'ronaldo', 'rontok', 'room', 'root', 'rosiade', 'rossa', 'rosti', 'rostisimanjuntak', 'roti', 'rotua', 'royong', 'rr', 'rsmayapada', 'rtp', 'rtpslot', 'ruang', 'ruas', 'rubicon', 'ruf', 'rugi', 'rujak', 'rujuk', 'ruko', 'rukun', 'rules', 'rumah', 'rumahdp', 'rumahkitajatim', 'rumput', 'runtuh', 'rupiah', 'rusa', 'rusak', 'rusia', 'rusli', 'rustam', 'rusuh', 'rutin', 'rutinitas', 'ruto', 'ruwa', 'ruwai', 'ruwetnesia', 'saama', 'saba', 'sabang', 'sabar', 'sabasport', 'sabrina', 'sabtu', 'sabu', 'sad', 'sadar', 'sadikin', 'sadis', 'sadisticpersonalitydisorder', 'safari', 'saga', 'sah', 'sahabat', 'sahabatganjar', 'sahabatnkri', 'saham', 'sahur', 'said', 'saing', 'sajak', 'sak', 'saking', 'sakirana', 'sakit', 'saksi', 'sakura', 'salah', 'salam', 'salary', 'salat', 'salatiga', 'salemba', 'sali', 'salim', 'salur', 'sama', 'sambal', 'sambang', 'sambas', 'sambat', 'sambk', 'sambo', 'sambobebas', 'samboeksekusi', 'sambomati', 'sambovonismati', 'sambung', 'sambut', 'sambutpemilu', 'sameday', 'samosir', 'sampah', 'samper', 'samping', 'sampit', 'samsat', 'samuel', 'sanak', 'sandal', 'sandang', 'sandar', 'sandi', 'sandiaga', 'sandiagauno', 'sandiuno', 'sandiwara', 'sandung', 'sandungan', 'sandy', 'sang', 'sange', 'sanggrah', 'sangka', 'sanksi', 'santai', 'santoso', 'santri', 'santribanten', 'santribersamaganjar', 'santridukungganjar', 'santriindonesia', 'santrikeren', 'santrinusantara', 'santriuntukganjar', 'santriuntuknegeri', 'santun', 'saos', 'sapa', 'sarah', 'saran', 'sarana', 'sarap', 'sarif', 'sarkas', 'sasar', 'sasaranwarganet', 'sate', 'satgassus', 'satono', 'satpam', 'satpolpp', 'satreskrim', 'satrio', 'satriyo', 'satu', 'saturated', 'satya', 'saudara', 'save', 'saveagnes', 'savedavid', 'sawar', 'sawit', 'sayang', 'sayung', 'sb', 'sbobet', 'schedule', 'screenshot', 'sean', 'season', 'sebab', 'sebal', 'sebar', 'sebentar', 'seblak', 'sebrangkan', 'sebut', 'sedan', 'sederhana', 'sedia', 'sedih', 'sedikiittt', 'sedongo', 'seen', 'segaf', 'segani', 'sehat', 'sehgg', 'sejahtera', 'sejarah', 'sejati', 'sejuk', 'sekali', 'sekar', 'sekarat', 'sekda', 'sekian', 'sekolah', 'sekretariat', 'sekretaris', 'seksi', 'seksual', 'sektor', 'sekutu', 'sel', 'selamat', 'selaras', 'selasa', 'selatan', 'selawat', 'selebritis', 'seleksi', 'selenggara', 'selesai', 'selfreminder', 'selimut', 'selisih', 'selokan', 'semakinmerosot', 'seman', 'semangat', 'semanggi', 'semanu', 'semarang', 'sembah', 'sembako', 'sembarang', 'sembari', 'semboyan', 'sembuh', 'sembunyi', 'semena', 'semester', 'seminar', 'sempat', 'sempit', 'semprot', 'sempurna', 'semuanyaaa', 'senam', 'senang', 'senderrr', 'seng', 'sengaja', 'senggol', 'sengguk', 'sengsara', 'seni', 'senin', 'senior', 'senjata', 'senonoh', 'senori', 'sensa', 'sensara', 'sensasi', 'sentak', 'sentil', 'sentuh', 'sentul', 'senyum', 'sepak', 'sepakat', 'sepakbolacc', 'sepatu', 'sepeda', 'sepedes', 'sepele', 'sepenuh', 'sepi', 'sepurane', 'seputarinews', 'seputarinewsrcti', 'sera', 'seragam', 'serah', 'seram', 'serambi', 'serang', 'serap', 'seraya', 'serba', 'serbaguna', 'serbu', 'seret', 'sergaisp', 'sergap', 'series', 'serikat', 'serius', 'seriusnanya', 'serok', 'serta', 'sertifikat', 'seru', 'seruduk', 'server', 'serverthailand', 'sesak', 'sesal', 'sesat', 'seskab', 'sespim', 'sesuai', 'set', 'setan', 'seteru', 'setia', 'setiawan', 'seto', 'setor', 'setyono', 'sewa', 'sex', 'sexual', 'shallallahu', 'shane', 'shanelukas', 'shanelukasrotua', 'shanks', 'sherlock', 'shio', 'sholikhah', 'shop', 'shopee', 'shorts', 'shout', 'show', 'si', 'siaga', 'siagnes', 'siagnws', 'siang', 'siap', 'siar', 'siasat', 'sibak', 'sibuk', 'sidang', 'sidangetik', 'sidangetikeliezer', 'sidangetikrichardeliezer', 'sidangferdysambo', 'sidangferdysambocs', 'sidangkodeetikeliezer', 'sidangooj', 'sidangpembunuhanbrigadirj', 'sidangsambo', 'sidangskripsi', 'sidangvonis', 'sidangvonisferdysambo', 'sidangvonisojj', 'sidangvonisooj', 'sidangvonisrichardeliezer', 'sidangvonissambo', 'side', 'sidempuan', 'sidi', 'sidik', 'sienenggopublic', 'sienenggopublik', 'sifat', 'sigit', 'signifikan', 'sih', 'siiih', 'sikap', 'sikat', 'sikonkan', 'siksa', 'sila', 'silat', 'silaturahmi', 'silaturahmikebangsaan', 'silit', 'silvia', 'simak', 'simanjuntak', 'simatupang', 'simbiosis', 'simpan', 'simpang', 'simpat', 'simpatisan', 'simpul', 'sindir', 'sindonews', 'sinergi', 'sing', 'singapura', 'singgung', 'singkat', 'singkong', 'sinta', 'sip', 'sipil', 'siprianus', 'sipss', 'sir', 'sirahna', 'siraj', 'siram', 'siregar', 'sisa', 'sisi', 'sistem', 'siswa', 'siswi', 'sita', 'siti', 'situ', 'situs', 'situsgacor', 'situshoki', 'situsjudionline', 'situslivecasinoonline', 'situstaruhanaman', 'size', 'skandal', 'skbb', 'skenario', 'skenarioferdysambo', 'skijumpingfamily', 'skrip', 'skripsi', 'sleding', 'slogan', 'sloganya', 'slot', 'slotd', 'slotgacor', 'slotgacorhariini', 'slotgacorihariini', 'slothoki', 'slotindo', 'slotindonesia', 'slotmudahmenang', 'slotonline', 'slr', 'smajamantap', 'smi', 'smppangudiluhur', 'soal', 'sobat', 'sobataniesnasional', 'sobattangerang', 'sodet', 'sodor', 'soeharto', 'sogo', 'soimah', 'sok', 'solo', 'soloraya', 'solusi', 'sonar', 'songsong', 'sonorabandung', 'sop', 'sopan', 'sore', 'sorong', 'sorot', 'sosial', 'sosialisasi', 'sosialita', 'sosis', 'sosok', 'soto', 'spanyol', 'spbu', 'speda', 'spesial', 'spesialis', 'spetakuler', 'spill', 'spin', 'spkt', 'sri', 'srimulyaniindrawati', 'srr', 'ssdikiitt', 'ssiiiuuuuuu', 'ssl', 'stabil', 'staf', 'stage', 'stakeholder', 'standar', 'staquf', 'start', 'startup', 'stasiun', 'state', 'station', 'status', 'stay', 'stigma', 'stop', 'stopbayarpajak', 'straits', 'strategi', 'strategis', 'streaming', 'stres', 'stroberi', 'struktural', 'stunting', 'suami', 'suap', 'suara', 'suarasmaja', 'suasana', 'sub', 'subhanahu', 'subianto', 'subsidair', 'subsider', 'subuh', 'suci', 'sudah', 'sudi', 'sudrajat', 'sufmidasco', 'sufmidaso', 'sugiarto', 'suguh', 'suharjono', 'suhartanto', 'suho', 'suit', 'sujud', 'suka', 'sukabumi', 'sukarelawan', 'suke', 'sukoharjo', 'sukoharjohitz', 'sukoharjokeras', 'sukri', 'sukses', 'suksesjakartauntukindonesia', 'suku', 'sulawesi', 'sulbar', 'sulit', 'sulses', 'sultan', 'suluh', 'sulung', 'sulut', 'sumarni', 'sumarto', 'sumaterautara', 'sumatra', 'sumbagut', 'sumbang', 'sumbat', 'sumber', 'sumedana', 'sumedang', 'sumoah', 'sumpah', 'sumpit', 'sumur', 'sumurresapan', 'sundal', 'sunday', 'sungai', 'sungguh', 'sunter', 'super', 'supermikro', 'support', 'surabaya', 'surat', 'surprise', 'suruh', 'surut', 'survei', 'surveicapres', 'surveiindostrategi', 'surveilitbangkompas', 'surveipilpres', 'surya', 'suryapaloh', 'suryo', 'suryoutomo', 'susah', 'susilo', 'susu', 'susul', 'susun', 'susup', 'sutrisno', 'suwarto', 'swafoto', 'swasta', 'swastyastu', 'syahril', 'syaikhona', 'syam', 'syarat', 'syarifah', 'syarifahilma', 'syarifahima', 'syukur', 'syura', 'ta', 'taaluma', 'taat', 'tabah', 'tabiat', 'tabik', 'tabrak', 'tag', 'tagih', 'tagline', 'tahan', 'tahu', 'tahun', 'tai', 'taifa', 'tajam', 'takar', 'takluk', 'taksi', 'taktik', 'takut', 'taman', 'tamat', 'tambah', 'tambo', 'tambun', 'tampak', 'tampil', 'tamtama', 'tanah', 'tanahpapua', 'tanam', 'tanda', 'tandaindulu', 'tanding', 'tang', 'tangan', 'tangerang', 'tanggal', 'tanggap', 'tangguh', 'tanggul', 'tanggulang', 'tanggung', 'tangkap', 'tangkapagnes', 'tanjung', 'tantang', 'tantanganglobal', 'tante', 'tanya', 'tapak', 'tapiii', 'tara', 'tarakanita', 'target', 'targeting', 'tari', 'tarik', 'tarodin', 'tarq', 'taruh', 'taruna', 'tas', 'taslim', 'tata', 'tatum', 'tau', 'taut', 'tawa', 'tawar', 'tax', 'taxidriverep', 'tayang', 'tayari', 'tb', 'te', 'teacher', 'teaching', 'tebar', 'tebet', 'teddy', 'teddyminahasa', 'tega', 'tegak', 'tegalsari', 'tegang', 'tegap', 'tegar', 'tegas', 'teges', 'teguh', 'tegur', 'teh', 'teja', 'tekan', 'teknokrat', 'teknologi', 'teko', 'teladan', 'telak', 'telat', 'telegram', 'telepon', 'televisi', 'telihat', 'teliti', 'telkomsel', 'telpon', 'telur', 'telusur', 'teman', 'tembak', 'tembiring', 'tembok', 'tempat', 'template', 'tempometro', 'tempur', 'temu', 'tenaga', 'tenanan', 'tenang', 'tenar', 'tendang', 'tengah', 'tengil', 'tengkar', 'tengkes', 'tengkorak', 'tenlung', 'tentara', 'tentu', 'tenyata', 'teori', 'tepat', 'ter', 'terampil', 'terang', 'terap', 'terasjakartaid', 'terbang', 'terbit', 'teriak', 'terima', 'terjang', 'terjdinya', 'terjun', 'terkadang', 'termsuk', 'terobos', 'teror', 'teroris', 'terpa', 'tertawa', 'tertib', 'tertskkan', 'terus', 'teruuuss', 'tes', 'tetangga', 'tetap', 'tetes', 'tewas', 'text', 'tgupp', 'thalib', 'thalibah', 'thaphraseid', 'thariq', 'that', 'the', 'theendofkinnporsche', 'thelastofus', 'thepapuajournal', 'thephraseid', 'theprimeshow', 'there', 'thestraitstimes', 'think', 'this', 'thita', 'thohir', 'thoriq', 'thread', 'thrift', 'tidaka', 'tidur', 'tiga', 'tik', 'tika', 'tiktok', 'tiktokberita', 'tiktokindonesia', 'tiktokviral', 'tilang', 'tilap', 'tim', 'timbang', 'timbul', 'timbun', 'times', 'timor', 'timpa', 'timpal', 'timsrimulyani', 'timur', 'timyaqut', 'tindak', 'ting', 'tinggal', 'tinggi', 'tingkah', 'tingkat', 'tinjau', 'tinta', 'tionghoa', 'tipe', 'tipikal', 'tipping', 'tipu', 'tir', 'tirakat', 'tiru', 'tiss', 'titid', 'titik', 'titip', 'tj', 'tk', 'tlogowungu', 'tlol', 'tm', 'tmnya', 'tn', 'tncc', 'tobat', 'toding', 'toeng', 'togog', 'tohok', 'tok', 'toko', 'tokoh', 'tokohagama', 'tokopedia', 'tol', 'tolak', 'tolakbayarpajak', 'tolakpolitikidentitas', 'tolok', 'tolol', 'tolong', 'tom', 'tombstone', 'tomliwafa', 'tommy', 'tonggak', 'tonton', 'top', 'topagen', 'topagenslot', 'topi', 'topic', 'toping', 'topreport', 'torondek', 'total', 'tournament', 'tpid', 'tpm', 'tppu', 'track', 'tradewithconfidence', 'trading', 'tradisi', 'tradisional', 'trafik', 'tragis', 'transaksi', 'transfer', 'transit', 'transjakarta', 'transmart', 'transparan', 'transparansi', 'transport', 'transportasi', 'tren', 'trendingnews', 'trendingnow', 'trendingshorts', 'trendingtweet', 'trendingtwitter', 'trenggalek', 'tribun', 'tribunkaltim', 'trik', 'triliun', 'trisakti', 'trisambodo', 'trisha', 'trisno', 'trossard', 'trustedangel', 'tsunami', 'ttgup', 'tua', 'tuai', 'tuan', 'tuba', 'tuban', 'tubijeserceeuropy', 'tubuh', 'tuding', 'tuduh', 'tugas', 'tugu', 'tuhan', 'tuju', 'tujuh', 'tukang', 'tukangjiplak', 'tukar', 'tulis', 'tulus', 'tuman', 'tumbuh', 'tumpang', 'tumpul', 'tunai', 'tunda', 'tunduk', 'tunggak', 'tunggal', 'tunggang', 'tungging', 'tunggu', 'tunjuk', 'tuntas', 'tuntut', 'turki', 'turnamen', 'turun', 'turut', 'tutup', 'tvtempo', 'tweet', 'twist', 'twit', 'twitnya', 'twitter', 'twitterdown', 'twitternya', 'uak', 'uang', 'uangpajakuntukpejabat', 'uap', 'ubah', 'ubicon', 'ucap', 'udang', 'udin', 'uea', 'uii', 'uji', 'ujung', 'uki', 'ukraina', 'uksw', 'ukur', 'ulah', 'ulama', 'ulang', 'ulas', 'ulis', 'ulti', 'ultimate', 'ultimatum', 'ulung', 'ulur', 'umar', 'umat', 'umbar', 'umggul', 'ummah', 'umpan', 'umpet', 'umur', 'unbox', 'uncover', 'undang', 'unduh', 'undur', 'unggah', 'unggul', 'ungkap', 'ungkapkebiadabankm', 'ungsi', 'unhas', 'unik', 'unit', 'united', 'universitas', 'unjung', 'untik', 'untoro', 'untuk', 'untukindonesia', 'untung', 'unyil', 'up', 'upacara', 'upaya', 'updat', 'upppss', 'urat', 'urgensi', 'urus', 'urut', 'usaha', 'usalama', 'useh', 'usia', 'uslub', 'ustadhannanattaki', 'usul', 'usung', 'usut', 'usutkembalikasuskm', 'utama', 'utang', 'utara', 'utas', 'utek', 'utomo', 'utus', 'uuciptakerja', 'uun', 'uwin', 'vaks', 'vaksin', 'vaksinaman', 'vaksinasicovid', 'valid', 'validasi', 'validitas', 'value', 'variant', 'vario', 'vces', 'vcsbugil', 'vcsmahasiswa', 'vehicle', 'ventilator', 'venus', 'versi', 'vertikal', 'veteran', 'via', 'vida', 'vidaindonesia', 'vidamarkets', 'video', 'videodreamcoid', 'videoupdate', 'vietnam', 'vigilante', 'viii', 'vina', 'viral', 'viralditiktok', 'viralindo', 'viralindonesia', 'viralkan', 'viralmedan', 'viralmesum', 'viralterbaru', 'viraltiktok', 'viralvideo', 'viralvideos', 'virtual', 'visi', 'visioner', 'visualart', 'vivacoid', 'vivanians', 'vnture', 'voiceacting', 'vokasi', 'vonis', 'vonisferdysambo', 'vonishakim', 'vonishukumanmati', 'vonismati', 'vonismatisambo', 'vonispenjara', 'vonispenjaratahun', 'vonisputusanrichardeliezer', 'vr', 'vt', 'wa', 'waadduuh', 'waadduuhh', 'wacana', 'wadduh', 'waduuuh', 'waega', 'wagubjatim', 'wahananews', 'wahananewsco', 'wahid', 'wahyu', 'wahyuimamasantoso', 'wahyuimamsantoso', 'wahyuimansantoso', 'wajah', 'wajahbarupan', 'wajar', 'wajib', 'wajr', 'wakanda', 'wakil', 'walah', 'walahhhh', 'walifananisha', 'walisema', 'wamelaaniwa', 'wamenkumham', 'wameshamuua', 'wan', 'wana', 'wanachumba', 'wanaongoza', 'wang', 'wanita', 'wanitamisterius', 'wara', 'waras', 'warga', 'warganet', 'waris', 'warkopdki', 'warna', 'wartawan', 'warung', 'waspada', 'waspadacapresradikal', 'waspadaparpolproteroris', 'wassalam', 'waswas', 'wata', 'watprof', 'watu', 'wawan', 'wawancara', 'way', 'wayan', 'wayv', 'we', 'week', 'weekendvibes', 'weh', 'welovejakarta', 'weloveyoutaehyung', 'wembley', 'wenang', 'wereng', 'wesewesewess', 'westpapua', 'wetengku', 'wewenang', 'wezi', 'whatsapp', 'wibawa', 'wibowo', 'wicky', 'widhastomo', 'widyanto', 'wiiiih', 'wilayah', 'wing', 'wirausaha', 'wirausahawan', 'wiri', 'wisata', 'wise', 'witjaksono', 'wkkk', 'wkwk', 'wkwkww', 'wnd', 'woderful', 'wonogirihits', 'wonogirikeras', 'wonogirikita', 'wonogirisukses', 'wonokromo', 'workshop', 'worldtour', 'worst', 'wow', 'wowoncs', 'wp', 'wrangler', 'wujud', 'xaviout', 'xi', 'xian', 'xixixi', 'xl', 'xpe', 'xviii', 'ya', 'yahya', 'yake', 'yakin', 'yaman', 'yamin', 'yanh', 'yanma', 'yanmas', 'yaqin', 'yaqut', 'yaqutcholil', 'yarobbalallamiin', 'yasonna', 'yatim', 'yaudahlh', 'yay', 'yekaan', 'yel', 'ygy', 'yhhh', 'yogyakarta', 'yohaanies', 'yohanes', 'yohanesanies', 'yohanies', 'yoongiredhair', 'yosfiah', 'yosodiningrat', 'yosua', 'yours', 'youtube', 'youtuber', 'yoyakarta', 'yoyote', 'ys', 'yt', 'yudha', 'yudhoyono', 'yuk', 'yunasril', 'yunus', 'yustiavandana', 'yusuf', 'yz', 'zaman', 'zayed', 'zelenskyy', 'zeus', 'ziarah', 'zionis', 'ziyech', 'zodiak', 'zoel', 'zoey', 'zonajajan', 'zonauang', 'zubair', 'zulhas', 'zulkiflihasan']\n"
          ]
        },
        {
          "output_type": "stream",
          "name": "stderr",
          "text": [
            "/usr/local/lib/python3.8/dist-packages/sklearn/utils/deprecation.py:87: FutureWarning: Function get_feature_names is deprecated; get_feature_names is deprecated in 1.0 and will be removed in 1.2. Please use get_feature_names_out instead.\n",
            "  warnings.warn(msg, category=FutureWarning)\n"
          ]
        }
      ]
    },
    {
      "cell_type": "code",
      "source": [
        "text_bow = bow_transformer.transform(newData['text'])"
      ],
      "metadata": {
        "id": "tWIvhn6-E1Op"
      },
      "execution_count": 23,
      "outputs": []
    },
    {
      "cell_type": "code",
      "source": [
        "X = text_bow.toarray()\n",
        "print(X)\n",
        "X.shape"
      ],
      "metadata": {
        "id": "IiuQHCuvFVHJ",
        "colab": {
          "base_uri": "https://localhost:8080/"
        },
        "outputId": "d30365b2-13a8-4bfe-8074-8f30f1389fcb"
      },
      "execution_count": 24,
      "outputs": [
        {
          "output_type": "stream",
          "name": "stdout",
          "text": [
            "[[0 0 0 ... 0 0 0]\n",
            " [0 0 0 ... 0 0 0]\n",
            " [0 0 0 ... 0 0 0]\n",
            " ...\n",
            " [0 0 0 ... 0 0 0]\n",
            " [0 0 0 ... 0 0 0]\n",
            " [0 0 0 ... 0 0 0]]\n"
          ]
        },
        {
          "output_type": "execute_result",
          "data": {
            "text/plain": [
              "(2294, 5689)"
            ]
          },
          "metadata": {},
          "execution_count": 24
        }
      ]
    },
    {
      "cell_type": "code",
      "source": [
        "from sklearn.feature_extraction.text import TfidfTransformer\n",
        "tfidf_transformer=TfidfTransformer().fit(text_bow)\n",
        "print(tfidf_transformer)\n",
        "\n",
        "tweet_tfidf=tfidf_transformer.transform(text_bow)\n",
        "print(tweet_tfidf)\n",
        "print(tweet_tfidf.shape) "
      ],
      "metadata": {
        "id": "qiWPUjSTFa8r"
      },
      "execution_count": null,
      "outputs": []
    },
    {
      "cell_type": "code",
      "source": [
        "dd=pd.DataFrame(data=tweet_tfidf.toarray(),columns=tokens)"
      ],
      "metadata": {
        "id": "GvR3YcMOE0eX"
      },
      "execution_count": 26,
      "outputs": []
    },
    {
      "cell_type": "code",
      "source": [
        "from sklearn.model_selection import train_test_split\n",
        "\n",
        "x_latih, x_tes, y_latih, y_tes = train_test_split(X, df.klasifikasi, test_size=0.20, random_state=42)"
      ],
      "metadata": {
        "id": "lptr5-lbFkep"
      },
      "execution_count": 27,
      "outputs": []
    },
    {
      "cell_type": "code",
      "source": [
        "print(x_latih.shape) \n",
        "print(x_tes.shape)\n",
        "print(y_latih.shape)\n",
        "print(y_tes.shape)"
      ],
      "metadata": {
        "id": "NykL1Dc8GH9Y",
        "colab": {
          "base_uri": "https://localhost:8080/"
        },
        "outputId": "79970b27-be1d-42b0-8ea5-3bd580db649d"
      },
      "execution_count": 28,
      "outputs": [
        {
          "output_type": "stream",
          "name": "stdout",
          "text": [
            "(1835, 5689)\n",
            "(459, 5689)\n",
            "(1835,)\n",
            "(459,)\n"
          ]
        }
      ]
    },
    {
      "cell_type": "code",
      "source": [
        "from sklearn.naive_bayes import MultinomialNB\n",
        "model = MultinomialNB().fit(x_latih,y_latih)"
      ],
      "metadata": {
        "id": "Jc-MPJJmGPEf"
      },
      "execution_count": 29,
      "outputs": []
    },
    {
      "cell_type": "code",
      "source": [
        "from time import time\n",
        "from sklearn import metrics\n",
        "import matplotlib.pyplot as plt\n",
        "import seaborn as sn\n",
        "from sklearn.metrics import confusion_matrix\n",
        "from sklearn.metrics import plot_confusion_matrix\n",
        "from pandas import DataFrame\n",
        "\n",
        "t = time()\n",
        "y_pred = model.predict(x_tes)\n",
        "\n",
        "test_time = time() - t\n",
        "print(\"test time:  %0.3fs\" % test_time)\n",
        "\n",
        "score1 = metrics.accuracy_score(y_tes, y_pred)\n",
        "print(\"accuracy:   %0.3f\" % score1)\n",
        "\n",
        "print(metrics.classification_report(y_tes, y_pred, target_names=['Negatif', 'Positif']))\n",
        "\n",
        "columns = ['Negatif', 'Positif']\n",
        "confm = confusion_matrix(y_tes, y_pred)\n",
        "df_cm = DataFrame(confm, index=columns, columns=columns)\n",
        "\n",
        "ax = sn.heatmap(df_cm, cmap='Greens', annot=True)\n",
        "ax.set_title('Confusion matrix')\n",
        "ax.set_xlabel('Label prediksi')\n",
        "ax.set_ylabel('Label sebenarnya')"
      ],
      "metadata": {
        "colab": {
          "base_uri": "https://localhost:8080/",
          "height": 503
        },
        "id": "KvNyBm8MGb2G",
        "outputId": "e048ed6b-8e47-4c48-f19e-f90597505186"
      },
      "execution_count": 30,
      "outputs": [
        {
          "output_type": "stream",
          "name": "stdout",
          "text": [
            "test time:  0.038s\n",
            "accuracy:   0.723\n",
            "              precision    recall  f1-score   support\n",
            "\n",
            "     Negatif       0.67      0.82      0.74       215\n",
            "     Positif       0.80      0.64      0.71       244\n",
            "\n",
            "    accuracy                           0.72       459\n",
            "   macro avg       0.73      0.73      0.72       459\n",
            "weighted avg       0.74      0.72      0.72       459\n",
            "\n"
          ]
        },
        {
          "output_type": "execute_result",
          "data": {
            "text/plain": [
              "Text(33.0, 0.5, 'Label sebenarnya')"
            ]
          },
          "metadata": {},
          "execution_count": 30
        },
        {
          "output_type": "display_data",
          "data": {
            "text/plain": [
              "<Figure size 432x288 with 2 Axes>"
            ],
            "image/png": "[encoded data removed]"
          },
          "metadata": {
            "needs_background": "light"
          }
        }
      ]
    },
    {
      "cell_type": "code",
      "source": [
        "user_data = [\"keren prabowo menang oleh suara sultra calon\"]\n",
        "print(user_data)"
      ],
      "metadata": {
        "colab": {
          "base_uri": "https://localhost:8080/"
        },
        "id": "F0kqZf42E0hW",
        "outputId": "f94aaf69-a0f3-4581-a742-095d4c01580c"
      },
      "execution_count": 31,
      "outputs": [
        {
          "output_type": "stream",
          "name": "stdout",
          "text": [
            "['keren prabowo menang oleh suara sultra calon']\n"
          ]
        }
      ]
    },
    {
      "cell_type": "code",
      "source": [
        "test_1_unseen =  bow_transformer.transform(user_data)\n",
        "data=test_1_unseen.toarray()\n",
        "print(\"diubah menjadi array: \\n \",data)"
      ],
      "metadata": {
        "colab": {
          "base_uri": "https://localhost:8080/"
        },
        "id": "p0Zsd8cKGuLo",
        "outputId": "104a2535-8643-45b5-819b-f9a725801656"
      },
      "execution_count": 32,
      "outputs": [
        {
          "output_type": "stream",
          "name": "stdout",
          "text": [
            "diubah menjadi array: \n",
            "  [[0 0 0 ... 0 0 0]]\n"
          ]
        }
      ]
    },
    {
      "cell_type": "code",
      "source": [
        "prediction_unseen = model.predict(data)\n",
        "print(prediction_unseen)"
      ],
      "metadata": {
        "colab": {
          "base_uri": "https://localhost:8080/"
        },
        "id": "2RZPyo6uGyVa",
        "outputId": "48a7929d-b405-43bf-ea80-5d629351aace"
      },
      "execution_count": 33,
      "outputs": [
        {
          "output_type": "stream",
          "name": "stdout",
          "text": [
            "['Positif']\n"
          ]
        }
      ]
    },
    {
      "cell_type": "markdown",
      "source": [
        "### Klasifikasi menggunakan LSTM"
      ],
      "metadata": {
        "id": "HZBwwB68Hp5J"
      }
    },
    {
      "cell_type": "code",
      "source": [
        "file_url = \"https://dl.fbaipublicfiles.com/fasttext/vectors-crawl/cc.id.300.vec.gz\"    \n",
        "!wget $file_url"
      ],
      "metadata": {
        "id": "eiitiYgKJgnn"
      },
      "execution_count": null,
      "outputs": []
    },
    {
      "cell_type": "code",
      "source": [
        "newDataLSTM = pd.read_csv('Data-hasil-preprocessing.csv',encoding='ISO-8859-1')"
      ],
      "metadata": {
        "id": "ZtxfidFZE0mj"
      },
      "execution_count": 262,
      "outputs": []
    },
    {
      "cell_type": "code",
      "source": [
        "newDataLSTM.klasifikasi.value_counts()"
      ],
      "metadata": {
        "colab": {
          "base_uri": "https://localhost:8080/"
        },
        "id": "dqpwBCNYD-3n",
        "outputId": "0c8bfec1-fdce-46f9-ffab-265e3e344ecc"
      },
      "execution_count": 263,
      "outputs": [
        {
          "output_type": "execute_result",
          "data": {
            "text/plain": [
              "Positif    1225\n",
              "Negatif    1069\n",
              "Name: klasifikasi, dtype: int64"
            ]
          },
          "metadata": {},
          "execution_count": 263
        }
      ]
    },
    {
      "cell_type": "code",
      "source": [
        "X = newDataLSTM.text\n",
        "y = newDataLSTM.klasifikasi\n",
        "X_train, X_test, y_train, y_test = train_test_split(X, y, train_size=0.85, random_state=42)"
      ],
      "metadata": {
        "id": "EhC3ZMdi5wpA"
      },
      "execution_count": 264,
      "outputs": []
    },
    {
      "cell_type": "code",
      "source": [
        "tokenizer = Tokenizer()\n",
        "tokenizer.fit_on_texts(X_train)\n",
        "tokenizer.fit_on_texts(X_test)\n",
        "nunique_words = len(tokenizer.word_index) + 1\n",
        "print(\"Number of Unique Words: {}\".format(nunique_words))"
      ],
      "metadata": {
        "colab": {
          "base_uri": "https://localhost:8080/"
        },
        "id": "lrrxJ1-n6KQw",
        "outputId": "7d249051-5a25-4614-d6a7-265223b2eaa4"
      },
      "execution_count": 265,
      "outputs": [
        {
          "output_type": "stream",
          "name": "stdout",
          "text": [
            "Number of Unique Words: 5704\n"
          ]
        }
      ]
    },
    {
      "cell_type": "code",
      "source": [
        "# saving tokenizer\n",
        "with open(\"tokenizer.pickle\", \"wb\") as handle:\n",
        "    pickle.dump(tokenizer, handle, protocol=pickle.HIGHEST_PROTOCOL)"
      ],
      "metadata": {
        "id": "0TaNVmyW6Pcs"
      },
      "execution_count": 266,
      "outputs": []
    },
    {
      "cell_type": "code",
      "source": [
        "max_length = max([len(s.split()) for s in X_train])\n",
        "\n",
        "X_train = tokenizer.texts_to_sequences(X_train)\n",
        "X_train = pad_sequences(X_train, maxlen=max_length)\n",
        "X_test = tokenizer.texts_to_sequences(X_test)\n",
        "X_test = pad_sequences(X_test, maxlen=max_length)\n",
        "y_train = y_train.replace({\"Negatif\": 0, \"Positif\": 1})\n",
        "y_test = y_test.replace({\"Negatif\": 0, \"Positif\": 1})"
      ],
      "metadata": {
        "id": "A5hkuwxZ62O2"
      },
      "execution_count": 267,
      "outputs": []
    },
    {
      "cell_type": "code",
      "source": [
        "import gzip\n",
        "embeddings_index = {}\n",
        "with gzip.open('cc.id.300.vec.gz') as f:\n",
        "    for line in f:\n",
        "        values = line.split()\n",
        "        word = values[0]\n",
        "        coefs = np.asarray(values[1:], dtype='float32')\n",
        "        embeddings_index[word] = coefs"
      ],
      "metadata": {
        "id": "6DxTTiJgJxkH"
      },
      "execution_count": 233,
      "outputs": []
    },
    {
      "cell_type": "code",
      "source": [
        "# Create embedding matrix\n",
        "num_words = len(tokenizer.word_index) + 1\n",
        "embedding_dim = 200\n",
        "embedding_matrix = np.zeros((num_words, embedding_dim))\n",
        "for word, i in tokenizer.word_index.items():\n",
        "    embedding_vector = embeddings_index.get(word)\n",
        "    if embedding_vector is not None:\n",
        "        embedding_matrix[i] = embedding_vector"
      ],
      "metadata": {
        "id": "GysA19BFKaBQ"
      },
      "execution_count": 268,
      "outputs": []
    },
    {
      "cell_type": "code",
      "source": [
        "model = tf.keras.Sequential([\n",
        "    # tf.keras.layers.Embedding(input_dim=num_words, output_dim=embedding_dim, weights=[embedding_matrix], input_length=max_length, trainable=False),\n",
        "    tf.keras.layers.Embedding(input_dim=num_words, output_dim=embedding_dim, input_length=max_length),\n",
        "    tf.keras.layers.LSTM(128, dropout=0.2, recurrent_dropout=0.25),\n",
        "    tf.keras.layers.Dense(64, activation='relu'),\n",
        "    tf.keras.layers.Dense(32, activation='relu'),\n",
        "    tf.keras.layers.Dense(1, activation='sigmoid')\n",
        "])\n",
        "model.compile(loss='binary_crossentropy',optimizer='adam',metrics=['accuracy'])"
      ],
      "metadata": {
        "id": "qD5_agQv9UD-"
      },
      "execution_count": 269,
      "outputs": []
    },
    {
      "cell_type": "code",
      "source": [
        "history = model.fit(\n",
        "    X_train,\n",
        "    y_train,\n",
        "    epochs=20,\n",
        "    validation_data=(X_test, y_test),\n",
        "    batch_size=32,\n",
        "    validation_split=0.2,\n",
        "    verbose=2)"
      ],
      "metadata": {
        "id": "4964E58x9ZRo",
        "colab": {
          "base_uri": "https://localhost:8080/"
        },
        "outputId": "96b83588-5b01-4d4b-e55e-6a61ffc5d7d6"
      },
      "execution_count": 270,
      "outputs": [
        {
          "output_type": "stream",
          "name": "stdout",
          "text": [
            "Epoch 1/20\n",
            "61/61 - 18s - loss: 0.6142 - accuracy: 0.6537 - val_loss: 0.5194 - val_accuracy: 0.7072 - 18s/epoch - 299ms/step\n",
            "Epoch 2/20\n",
            "61/61 - 11s - loss: 0.3948 - accuracy: 0.8184 - val_loss: 0.5655 - val_accuracy: 0.7043 - 11s/epoch - 186ms/step\n",
            "Epoch 3/20\n",
            "61/61 - 10s - loss: 0.2273 - accuracy: 0.9087 - val_loss: 0.6298 - val_accuracy: 0.6986 - 10s/epoch - 160ms/step\n",
            "Epoch 4/20\n",
            "61/61 - 11s - loss: 0.1355 - accuracy: 0.9523 - val_loss: 0.9447 - val_accuracy: 0.6928 - 11s/epoch - 180ms/step\n",
            "Epoch 5/20\n",
            "61/61 - 11s - loss: 0.0819 - accuracy: 0.9728 - val_loss: 0.8289 - val_accuracy: 0.6899 - 11s/epoch - 181ms/step\n",
            "Epoch 6/20\n",
            "61/61 - 11s - loss: 0.0404 - accuracy: 0.9877 - val_loss: 1.4967 - val_accuracy: 0.7014 - 11s/epoch - 181ms/step\n",
            "Epoch 7/20\n",
            "61/61 - 11s - loss: 0.0345 - accuracy: 0.9877 - val_loss: 1.7579 - val_accuracy: 0.7072 - 11s/epoch - 183ms/step\n",
            "Epoch 8/20\n",
            "61/61 - 11s - loss: 0.0457 - accuracy: 0.9841 - val_loss: 1.4844 - val_accuracy: 0.6986 - 11s/epoch - 183ms/step\n",
            "Epoch 9/20\n",
            "61/61 - 11s - loss: 0.0348 - accuracy: 0.9918 - val_loss: 1.6456 - val_accuracy: 0.6928 - 11s/epoch - 180ms/step\n",
            "Epoch 10/20\n",
            "61/61 - 12s - loss: 0.0207 - accuracy: 0.9928 - val_loss: 1.6814 - val_accuracy: 0.6928 - 12s/epoch - 199ms/step\n",
            "Epoch 11/20\n",
            "61/61 - 10s - loss: 0.0228 - accuracy: 0.9903 - val_loss: 1.7409 - val_accuracy: 0.7101 - 10s/epoch - 167ms/step\n",
            "Epoch 12/20\n",
            "61/61 - 11s - loss: 0.0112 - accuracy: 0.9949 - val_loss: 2.3705 - val_accuracy: 0.7014 - 11s/epoch - 182ms/step\n",
            "Epoch 13/20\n",
            "61/61 - 11s - loss: 0.0068 - accuracy: 0.9974 - val_loss: 2.4253 - val_accuracy: 0.6928 - 11s/epoch - 181ms/step\n",
            "Epoch 14/20\n",
            "61/61 - 11s - loss: 0.0041 - accuracy: 0.9985 - val_loss: 2.4749 - val_accuracy: 0.7014 - 11s/epoch - 182ms/step\n",
            "Epoch 15/20\n",
            "61/61 - 11s - loss: 0.0051 - accuracy: 0.9979 - val_loss: 2.6128 - val_accuracy: 0.7014 - 11s/epoch - 181ms/step\n",
            "Epoch 16/20\n",
            "61/61 - 11s - loss: 0.0068 - accuracy: 0.9969 - val_loss: 2.8673 - val_accuracy: 0.6928 - 11s/epoch - 181ms/step\n",
            "Epoch 17/20\n",
            "61/61 - 10s - loss: 0.0467 - accuracy: 0.9820 - val_loss: 1.7574 - val_accuracy: 0.6899 - 10s/epoch - 158ms/step\n",
            "Epoch 18/20\n",
            "61/61 - 11s - loss: 0.0198 - accuracy: 0.9933 - val_loss: 1.9074 - val_accuracy: 0.6783 - 11s/epoch - 181ms/step\n",
            "Epoch 19/20\n",
            "61/61 - 11s - loss: 0.0166 - accuracy: 0.9918 - val_loss: 1.8343 - val_accuracy: 0.7043 - 11s/epoch - 181ms/step\n",
            "Epoch 20/20\n",
            "61/61 - 11s - loss: 0.0046 - accuracy: 0.9974 - val_loss: 2.2179 - val_accuracy: 0.7072 - 11s/epoch - 185ms/step\n"
          ]
        }
      ]
    },
    {
      "cell_type": "code",
      "source": [
        "# Plot Training & Validation Accuracy Values\n",
        "plt.figure(figsize=(20, 8))\n",
        "plt.plot(history.history['accuracy'])\n",
        "plt.plot(history.history['val_accuracy'])\n",
        "plt.title('Training and Validation Accuracy')\n",
        "plt.ylabel('Accuracy')\n",
        "plt.xlabel('Sum Of Epoch')\n",
        "plt.grid(True)\n",
        "plt.legend(['Training Accuracy', 'Validation Accuracy'], loc='lower right')\n",
        "plt.show()\n",
        "\n",
        "# Plot Training & Validation Loss Values\n",
        "plt.figure(figsize=(20, 8))\n",
        "plt.plot(history.history['loss'])\n",
        "plt.plot(history.history['val_loss'])\n",
        "plt.title('Training and Validation Loss')\n",
        "plt.ylabel('Loss')\n",
        "plt.xlabel('Sum Of Epoch')\n",
        "plt.grid(True)\n",
        "plt.legend(['Training Accuracy', 'Validation Accuracy'], loc='upper right')\n",
        "plt.show()"
      ],
      "metadata": {
        "colab": {
          "base_uri": "https://localhost:8080/",
          "height": 1000
        },
        "id": "eHjTrbbj2QWM",
        "outputId": "3c871bc6-a3ee-4c93-d755-7a0f8ff4a28d"
      },
      "execution_count": 254,
      "outputs": [
        {
          "output_type": "display_data",
          "data": {
            "text/plain": [
              "<Figure size 1440x576 with 1 Axes>"
            ],
            "image/png": "[encoded data removed]"
          },
          "metadata": {
            "needs_background": "light"
          }
        },
        {
          "output_type": "display_data",
          "data": {
            "text/plain": [
              "<Figure size 1440x576 with 1 Axes>"
            ],
            "image/png": "[encoded data removed]"
          },
          "metadata": {
            "needs_background": "light"
          }
        }
      ]
    },
    {
      "cell_type": "markdown",
      "source": [
        "### Evaluation on test data"
      ],
      "metadata": {
        "id": "sVDIqI_cNm40"
      }
    },
    {
      "cell_type": "code",
      "source": [
        "# Evaluate\n",
        "evaluate = model.evaluate(X_test, y_test, verbose=1)\n",
        "print('Loss: ', evaluate[0])\n",
        "print('Accuracy: ', evaluate[1]*100, ' %')"
      ],
      "metadata": {
        "colab": {
          "base_uri": "https://localhost:8080/"
        },
        "id": "HRhuVrBB2l_t",
        "outputId": "3602a6f4-5765-4112-e03a-47bba85d72ed"
      },
      "execution_count": 255,
      "outputs": [
        {
          "output_type": "stream",
          "name": "stdout",
          "text": [
            "15/15 [==============================] - 0s 24ms/step - loss: 2.7108 - accuracy: 0.6906\n",
            "Loss:  2.710761785507202\n",
            "Accuracy:  69.06318068504333  %\n"
          ]
        }
      ]
    },
    {
      "cell_type": "code",
      "source": [
        "model.save('twitter-sentiment-analysis-model-lstm.h5')"
      ],
      "metadata": {
        "id": "55amsus2ZBTK"
      },
      "execution_count": 256,
      "outputs": []
    },
    {
      "cell_type": "code",
      "source": [
        "newmodel = load_model(\"twitter-sentiment-analysis-model-lstm.h5\")"
      ],
      "metadata": {
        "id": "iEnCO6BAECiA"
      },
      "execution_count": 257,
      "outputs": []
    },
    {
      "cell_type": "code",
      "source": [
        "with open(\"/content/tokenizer.pickle\", \"rb\") as handle:\n",
        "    tokenizer = pickle.load(handle)"
      ],
      "metadata": {
        "id": "cT-so2yyEKk8"
      },
      "execution_count": 258,
      "outputs": []
    },
    {
      "cell_type": "code",
      "source": [
        "sequences = pad_sequences(\n",
        "    tokenizer.texts_to_sequences(newDataLSTM[\"text\"]), maxlen=X_train.shape[1]\n",
        ")\n",
        "score = newmodel.predict(sequences)\n",
        "newDataLSTM[\"score\"] = score\n",
        "newDataLSTM[\"pred_klasifikasi\"] = newDataLSTM[\"score\"].apply(\n",
        "    lambda x: \"Positif\" if x >= 0.50 else \"Negatif\"\n",
        ")"
      ],
      "metadata": {
        "colab": {
          "base_uri": "https://localhost:8080/"
        },
        "id": "hwJ9iB8sESQ1",
        "outputId": "29b9b2dc-f93e-4733-e913-bed2d5614e4d"
      },
      "execution_count": 259,
      "outputs": [
        {
          "output_type": "stream",
          "name": "stdout",
          "text": [
            "72/72 [==============================] - 2s 24ms/step\n"
          ]
        }
      ]
    },
    {
      "cell_type": "code",
      "source": [
        "accuracy_score(newDataLSTM[\"klasifikasi\"], newDataLSTM[\"pred_klasifikasi\"])"
      ],
      "metadata": {
        "colab": {
          "base_uri": "https://localhost:8080/"
        },
        "id": "TLI7GZB3W9R_",
        "outputId": "996ab77d-7e09-4c1b-b880-b48a52ca9f79"
      },
      "execution_count": 260,
      "outputs": [
        {
          "output_type": "execute_result",
          "data": {
            "text/plain": [
              "0.9376634699215345"
            ]
          },
          "metadata": {},
          "execution_count": 260
        }
      ]
    },
    {
      "cell_type": "code",
      "source": [
        "tn, fp, fn, tp = confusion_matrix(\n",
        "    newDataLSTM[\"klasifikasi\"], newDataLSTM[\"pred_klasifikasi\"]\n",
        ").ravel()\n",
        "tnr = tn / (tn + fp)\n",
        "tpr = tp / (tp + fn)\n",
        "print(\"True Negative Rate: {:.3f}\".format(tnr))\n",
        "print(\"True Positive Rate: {:.3f}\".format(tpr))"
      ],
      "metadata": {
        "colab": {
          "base_uri": "https://localhost:8080/"
        },
        "id": "CdxVSUppXbyA",
        "outputId": "a93c97b6-6b7b-4006-e853-10c36a4bfa0e"
      },
      "execution_count": 261,
      "outputs": [
        {
          "output_type": "stream",
          "name": "stdout",
          "text": [
            "True Negative Rate: 0.923\n",
            "True Positive Rate: 0.950\n"
          ]
        }
      ]
    }
  ]
}